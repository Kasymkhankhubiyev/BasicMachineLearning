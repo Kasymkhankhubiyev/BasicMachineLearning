{
  "nbformat": 4,
  "nbformat_minor": 0,
  "metadata": {
    "colab": {
      "provenance": [],
      "collapsed_sections": []
    },
    "kernelspec": {
      "name": "python3",
      "display_name": "Python 3"
    },
    "language_info": {
      "name": "python"
    }
  },
  "cells": [
    {
      "cell_type": "code",
      "execution_count": 1,
      "metadata": {
        "id": "hWKcQIL85ZKq"
      },
      "outputs": [],
      "source": [
        "import tensorflow as tf"
      ]
    },
    {
      "cell_type": "code",
      "source": [
        "data = tf.keras.datasets.fashion_mnist"
      ],
      "metadata": {
        "id": "5TEwp3pH5oHb"
      },
      "execution_count": 4,
      "outputs": []
    },
    {
      "cell_type": "code",
      "source": [
        "(training_images, training_labels), (test_images, test_labels) = data.load_data()"
      ],
      "metadata": {
        "colab": {
          "base_uri": "https://localhost:8080/"
        },
        "id": "5sVHOPdh5vqi",
        "outputId": "e592640f-5ce3-474b-ef9a-174210f40a33"
      },
      "execution_count": 7,
      "outputs": [
        {
          "output_type": "stream",
          "name": "stdout",
          "text": [
            "Downloading data from https://storage.googleapis.com/tensorflow/tf-keras-datasets/train-labels-idx1-ubyte.gz\n",
            "32768/29515 [=================================] - 0s 0us/step\n",
            "40960/29515 [=========================================] - 0s 0us/step\n",
            "Downloading data from https://storage.googleapis.com/tensorflow/tf-keras-datasets/train-images-idx3-ubyte.gz\n",
            "26427392/26421880 [==============================] - 0s 0us/step\n",
            "26435584/26421880 [==============================] - 0s 0us/step\n",
            "Downloading data from https://storage.googleapis.com/tensorflow/tf-keras-datasets/t10k-labels-idx1-ubyte.gz\n",
            "16384/5148 [===============================================================================================] - 0s 0us/step\n",
            "Downloading data from https://storage.googleapis.com/tensorflow/tf-keras-datasets/t10k-images-idx3-ubyte.gz\n",
            "4423680/4422102 [==============================] - 0s 0us/step\n",
            "4431872/4422102 [==============================] - 0s 0us/step\n"
          ]
        }
      ]
    },
    {
      "cell_type": "code",
      "source": [
        "training_images = training_images.reshape(60000, 28, 28, 1) # переводим в трехмерие т.е. 28х28х1 \n",
        "training_images = training_images/255.0\n",
        "test_images = test_images.reshape(10000, 28, 28, 1)\n",
        "test_images = test_images/255.0"
      ],
      "metadata": {
        "id": "_AwJc_GY6FCM"
      },
      "execution_count": 15,
      "outputs": []
    },
    {
      "cell_type": "code",
      "source": [
        "model = tf.keras.models.Sequential([\n",
        "    tf.keras.layers.Conv2D(64, (3, 3), activation='relu', input_shape=(28, 28, 1)),\n",
        "    tf.keras.layers.MaxPooling2D(2, 2),\n",
        "    tf.keras.layers.Conv2D(64, (3, 3), activation='relu', input_shape=(28, 28, 1)),\n",
        "    tf.keras.layers.MaxPooling2D(2, 2),\n",
        "    tf.keras.layers.Flatten(),\n",
        "    tf.keras.layers.Dense(128, activation=tf.nn.relu),\n",
        "    tf.keras.layers.Dense(10, activation=tf.nn.softmax)\n",
        "])"
      ],
      "metadata": {
        "id": "AfewY6xu6WlU"
      },
      "execution_count": 17,
      "outputs": []
    },
    {
      "cell_type": "code",
      "source": [
        "model.compile(optimizer='adam', loss='sparse_categorical_crossentropy', metrics=['accuracy'])"
      ],
      "metadata": {
        "id": "yeHVexKw6_NQ"
      },
      "execution_count": 18,
      "outputs": []
    },
    {
      "cell_type": "code",
      "source": [
        "model.fit(training_images, training_labels, epochs=20)"
      ],
      "metadata": {
        "colab": {
          "base_uri": "https://localhost:8080/"
        },
        "id": "s2pbi7NT7NDS",
        "outputId": "bb992424-c0aa-4a8b-ad91-9a01bfe62166"
      },
      "execution_count": 19,
      "outputs": [
        {
          "output_type": "stream",
          "name": "stdout",
          "text": [
            "Epoch 1/20\n",
            "1875/1875 [==============================] - 97s 51ms/step - loss: 0.8850 - accuracy: 0.6731\n",
            "Epoch 2/20\n",
            "1875/1875 [==============================] - 87s 46ms/step - loss: 0.6075 - accuracy: 0.7700\n",
            "Epoch 3/20\n",
            "1875/1875 [==============================] - 87s 46ms/step - loss: 0.5390 - accuracy: 0.7978\n",
            "Epoch 4/20\n",
            "1875/1875 [==============================] - 85s 46ms/step - loss: 0.4917 - accuracy: 0.8158\n",
            "Epoch 5/20\n",
            "1875/1875 [==============================] - 85s 46ms/step - loss: 0.4621 - accuracy: 0.8266\n",
            "Epoch 6/20\n",
            "1875/1875 [==============================] - 89s 47ms/step - loss: 0.4376 - accuracy: 0.8381\n",
            "Epoch 7/20\n",
            "1875/1875 [==============================] - 88s 47ms/step - loss: 0.4142 - accuracy: 0.8460\n",
            "Epoch 8/20\n",
            "1875/1875 [==============================] - 87s 47ms/step - loss: 0.3953 - accuracy: 0.8549\n",
            "Epoch 9/20\n",
            "1875/1875 [==============================] - 87s 46ms/step - loss: 0.3789 - accuracy: 0.8597\n",
            "Epoch 10/20\n",
            "1875/1875 [==============================] - 86s 46ms/step - loss: 0.3644 - accuracy: 0.8659\n",
            "Epoch 11/20\n",
            "1875/1875 [==============================] - 86s 46ms/step - loss: 0.3525 - accuracy: 0.8691\n",
            "Epoch 12/20\n",
            "1875/1875 [==============================] - 98s 52ms/step - loss: 0.3397 - accuracy: 0.8752\n",
            "Epoch 13/20\n",
            "1875/1875 [==============================] - 98s 52ms/step - loss: 0.3302 - accuracy: 0.8776\n",
            "Epoch 14/20\n",
            "1875/1875 [==============================] - 100s 53ms/step - loss: 0.3210 - accuracy: 0.8801\n",
            "Epoch 15/20\n",
            "1875/1875 [==============================] - 92s 49ms/step - loss: 0.3115 - accuracy: 0.8848\n",
            "Epoch 16/20\n",
            "1875/1875 [==============================] - 87s 46ms/step - loss: 0.3042 - accuracy: 0.8867\n",
            "Epoch 17/20\n",
            "1875/1875 [==============================] - 86s 46ms/step - loss: 0.2986 - accuracy: 0.8877\n",
            "Epoch 18/20\n",
            "1875/1875 [==============================] - 86s 46ms/step - loss: 0.2913 - accuracy: 0.8918\n",
            "Epoch 19/20\n",
            "1875/1875 [==============================] - 87s 47ms/step - loss: 0.2852 - accuracy: 0.8937\n",
            "Epoch 20/20\n",
            "1875/1875 [==============================] - 93s 50ms/step - loss: 0.2796 - accuracy: 0.8966\n"
          ]
        },
        {
          "output_type": "execute_result",
          "data": {
            "text/plain": [
              "<keras.callbacks.History at 0x7fbb9b283490>"
            ]
          },
          "metadata": {},
          "execution_count": 19
        }
      ]
    },
    {
      "cell_type": "code",
      "source": [
        "model.evaluate(test_images, test_labels)"
      ],
      "metadata": {
        "colab": {
          "base_uri": "https://localhost:8080/"
        },
        "id": "0axOozjp9f9R",
        "outputId": "51848523-fe82-4126-c0f5-f486bdbfe801"
      },
      "execution_count": 20,
      "outputs": [
        {
          "output_type": "stream",
          "name": "stdout",
          "text": [
            "313/313 [==============================] - 5s 15ms/step - loss: 0.3403 - accuracy: 0.8778\n"
          ]
        },
        {
          "output_type": "execute_result",
          "data": {
            "text/plain": [
              "[0.3403342664241791, 0.8777999877929688]"
            ]
          },
          "metadata": {},
          "execution_count": 20
        }
      ]
    },
    {
      "cell_type": "code",
      "source": [
        "classifications=model.predict(test_images)\n",
        "print(classifications[0])\n",
        "print(test_labels[0])"
      ],
      "metadata": {
        "colab": {
          "base_uri": "https://localhost:8080/"
        },
        "id": "7fYjh1DB9l3J",
        "outputId": "ccc4cd81-1427-403f-db8a-7d36955085da"
      },
      "execution_count": 21,
      "outputs": [
        {
          "output_type": "stream",
          "name": "stdout",
          "text": [
            "[7.9145975e-06 7.8831892e-09 2.4962870e-07 5.2341687e-08 6.2111627e-09\n",
            " 1.2514530e-02 2.4239730e-06 2.0237319e-02 2.7925871e-06 9.6723473e-01]\n",
            "9\n"
          ]
        }
      ]
    },
    {
      "cell_type": "code",
      "source": [
        "model.summary()"
      ],
      "metadata": {
        "colab": {
          "base_uri": "https://localhost:8080/"
        },
        "id": "GwK3nVSQ_YrV",
        "outputId": "bd81c771-bfa6-4f54-b854-fdd07a628282"
      },
      "execution_count": 23,
      "outputs": [
        {
          "output_type": "stream",
          "name": "stdout",
          "text": [
            "Model: \"sequential_1\"\n",
            "_________________________________________________________________\n",
            " Layer (type)                Output Shape              Param #   \n",
            "=================================================================\n",
            " conv2d (Conv2D)             (None, 26, 26, 64)        640       \n",
            "                                                                 \n",
            " max_pooling2d (MaxPooling2D  (None, 13, 13, 64)       0         \n",
            " )                                                               \n",
            "                                                                 \n",
            " conv2d_1 (Conv2D)           (None, 11, 11, 64)        36928     \n",
            "                                                                 \n",
            " max_pooling2d_1 (MaxPooling  (None, 5, 5, 64)         0         \n",
            " 2D)                                                             \n",
            "                                                                 \n",
            " flatten_3 (Flatten)         (None, 1600)              0         \n",
            "                                                                 \n",
            " dense_4 (Dense)             (None, 128)               204928    \n",
            "                                                                 \n",
            " dense_5 (Dense)             (None, 10)                1290      \n",
            "                                                                 \n",
            "=================================================================\n",
            "Total params: 243,786\n",
            "Trainable params: 243,786\n",
            "Non-trainable params: 0\n",
            "_________________________________________________________________\n"
          ]
        }
      ]
    },
    {
      "cell_type": "code",
      "source": [],
      "metadata": {
        "id": "WtDHoBu__ari"
      },
      "execution_count": null,
      "outputs": []
    }
  ]
}