{
  "nbformat": 4,
  "nbformat_minor": 0,
  "metadata": {
    "colab": {
      "provenance": []
    },
    "kernelspec": {
      "name": "python3",
      "display_name": "Python 3"
    },
    "language_info": {
      "name": "python"
    }
  },
  "cells": [
    {
      "cell_type": "markdown",
      "source": [
        "#Загрузка дата сета и выгрузка данных из zip в подходящие директории"
      ],
      "metadata": {
        "id": "qbdlDTxNIaw-"
      }
    },
    {
      "cell_type": "code",
      "execution_count": 1,
      "metadata": {
        "id": "ecV1XAaYE7k7"
      },
      "outputs": [],
      "source": [
        "import urllib.request\n",
        "import zipfile"
      ]
    },
    {
      "cell_type": "code",
      "source": [
        "url = \"https://storage.googleapis.com/laurencemoroney-blog.appspot.com/horse-or-human.zip\""
      ],
      "metadata": {
        "id": "6wf24NiUFUIN"
      },
      "execution_count": 7,
      "outputs": []
    },
    {
      "cell_type": "code",
      "source": [
        "file_name ='horse-or-human.zip'\n",
        "training_dir = 'horse-or-human/training/'\n",
        "urllib.request.urlretrieve(url, file_name)"
      ],
      "metadata": {
        "colab": {
          "base_uri": "https://localhost:8080/"
        },
        "id": "m0qaZsQAHMbh",
        "outputId": "524b11b8-d161-4275-a2da-c9468a1d5cb4"
      },
      "execution_count": 8,
      "outputs": [
        {
          "output_type": "execute_result",
          "data": {
            "text/plain": [
              "('horse-or-human.zip', <http.client.HTTPMessage at 0x7f726cc91b90>)"
            ]
          },
          "metadata": {},
          "execution_count": 8
        }
      ]
    },
    {
      "cell_type": "code",
      "source": [
        "zip_ref = zipfile.ZipFile(file_name, 'r')\n",
        "zip_ref.extractall(training_dir)\n",
        "zip_ref.close()"
      ],
      "metadata": {
        "id": "ZbiPbJz9H_CP"
      },
      "execution_count": 9,
      "outputs": []
    },
    {
      "cell_type": "markdown",
      "source": [
        "#Теперь запихнем все в TensorFlow via ImageDataGenerator, чтобы автоматически создать labels"
      ],
      "metadata": {
        "id": "NRzonI9hIsug"
      }
    },
    {
      "cell_type": "code",
      "source": [
        "from tensorflow.keras.preprocessing.image import ImageDataGenerator"
      ],
      "metadata": {
        "id": "YLSwocUyJAmJ"
      },
      "execution_count": 11,
      "outputs": []
    },
    {
      "cell_type": "code",
      "source": [
        "train_datagen = ImageDataGenerator(rescale=1/255) #создаем генератор"
      ],
      "metadata": {
        "id": "fDZrgL_0I4KL"
      },
      "execution_count": 12,
      "outputs": []
    },
    {
      "cell_type": "code",
      "source": [
        "train_generator = train_datagen.flow_from_directory(training_dir, target_size=(300, 300), class_mode='binary')"
      ],
      "metadata": {
        "colab": {
          "base_uri": "https://localhost:8080/"
        },
        "id": "4MalFiXxITAw",
        "outputId": "98af7368-98ab-4cad-8bb1-f768664e4fd2"
      },
      "execution_count": 13,
      "outputs": [
        {
          "output_type": "stream",
          "name": "stdout",
          "text": [
            "Found 1027 images belonging to 2 classes.\n"
          ]
        }
      ]
    },
    {
      "cell_type": "markdown",
      "source": [
        "#Создаем модель"
      ],
      "metadata": {
        "id": "YAAwFSf5LaHx"
      }
    },
    {
      "cell_type": "markdown",
      "source": [
        "**Сейчас стоит задача бинарной классификации, потому на выходе достаточно одного нейрона, который дает 0 или 1 в зависимости от принадлежности к тому или иному классу**"
      ],
      "metadata": {
        "id": "kvt8axrcLdc4"
      }
    },
    {
      "cell_type": "code",
      "source": [
        "import tensorflow as tf"
      ],
      "metadata": {
        "id": "5izX4U3OL0YK"
      },
      "execution_count": 14,
      "outputs": []
    },
    {
      "cell_type": "code",
      "source": [
        "model = tf.keras.models.Sequential([\n",
        "    tf.keras.layers.Conv2D(16, (3,3), activation='relu', input_shape=(300, 300, 3)),\n",
        "    tf.keras.layers.MaxPooling2D(2,2),\n",
        "    tf.keras.layers.Conv2D(32, (3,3), activation='relu'),\n",
        "    tf.keras.layers.MaxPooling2D(2,2),\n",
        "    tf.keras.layers.Conv2D(64, (3,3), activation='relu'),\n",
        "    tf.keras.layers.MaxPooling2D(2,2),\n",
        "    tf.keras.layers.Conv2D(64, (3,3), activation='relu'),\n",
        "    tf.keras.layers.MaxPooling2D(2,2),\n",
        "    tf.keras.layers.Conv2D(64, (3,3), activation='relu'),\n",
        "    tf.keras.layers.MaxPooling2D(2,2),\n",
        "    tf.keras.layers.Flatten(),\n",
        "    tf.keras.layers.Dense(512, activation='relu'),\n",
        "    tf.keras.layers.Dense(1, activation='sigmoid')\n",
        "])"
      ],
      "metadata": {
        "id": "PLbr3JvDLots"
      },
      "execution_count": 19,
      "outputs": []
    },
    {
      "cell_type": "code",
      "source": [
        "model.summary()"
      ],
      "metadata": {
        "colab": {
          "base_uri": "https://localhost:8080/"
        },
        "id": "ELcVR-YkMzVt",
        "outputId": "0a4d62d5-b599-4ffc-ae3f-01a3ca2fbe55"
      },
      "execution_count": 20,
      "outputs": [
        {
          "output_type": "stream",
          "name": "stdout",
          "text": [
            "Model: \"sequential\"\n",
            "_________________________________________________________________\n",
            " Layer (type)                Output Shape              Param #   \n",
            "=================================================================\n",
            " conv2d_15 (Conv2D)          (None, 298, 298, 16)      448       \n",
            "                                                                 \n",
            " max_pooling2d_15 (MaxPoolin  (None, 149, 149, 16)     0         \n",
            " g2D)                                                            \n",
            "                                                                 \n",
            " conv2d_16 (Conv2D)          (None, 147, 147, 32)      4640      \n",
            "                                                                 \n",
            " max_pooling2d_16 (MaxPoolin  (None, 73, 73, 32)       0         \n",
            " g2D)                                                            \n",
            "                                                                 \n",
            " conv2d_17 (Conv2D)          (None, 71, 71, 64)        18496     \n",
            "                                                                 \n",
            " max_pooling2d_17 (MaxPoolin  (None, 35, 35, 64)       0         \n",
            " g2D)                                                            \n",
            "                                                                 \n",
            " conv2d_18 (Conv2D)          (None, 33, 33, 64)        36928     \n",
            "                                                                 \n",
            " max_pooling2d_18 (MaxPoolin  (None, 16, 16, 64)       0         \n",
            " g2D)                                                            \n",
            "                                                                 \n",
            " conv2d_19 (Conv2D)          (None, 14, 14, 64)        36928     \n",
            "                                                                 \n",
            " max_pooling2d_19 (MaxPoolin  (None, 7, 7, 64)         0         \n",
            " g2D)                                                            \n",
            "                                                                 \n",
            " flatten_1 (Flatten)         (None, 3136)              0         \n",
            "                                                                 \n",
            " dense (Dense)               (None, 512)               1606144   \n",
            "                                                                 \n",
            " dense_1 (Dense)             (None, 1)                 513       \n",
            "                                                                 \n",
            "=================================================================\n",
            "Total params: 1,704,097\n",
            "Trainable params: 1,704,097\n",
            "Non-trainable params: 0\n",
            "_________________________________________________________________\n"
          ]
        }
      ]
    },
    {
      "cell_type": "code",
      "source": [
        "from tensorflow.keras.optimizers import RMSprop"
      ],
      "metadata": {
        "id": "dRq6DhCfOU2K"
      },
      "execution_count": 22,
      "outputs": []
    },
    {
      "cell_type": "code",
      "source": [
        "model.compile(loss='binary_crossentropy', optimizer=RMSprop(learning_rate=0.001), metrics=['accuracy'])"
      ],
      "metadata": {
        "id": "E1qRrEk_NmHO"
      },
      "execution_count": 24,
      "outputs": []
    },
    {
      "cell_type": "code",
      "source": [
        "history = model.fit_generator(train_generator, epochs=10)"
      ],
      "metadata": {
        "colab": {
          "base_uri": "https://localhost:8080/"
        },
        "id": "uwzLjBS2Odwv",
        "outputId": "e7de0cd7-7338-4ea0-86fb-c81f8dc9ae44"
      },
      "execution_count": 25,
      "outputs": [
        {
          "output_type": "stream",
          "name": "stderr",
          "text": [
            "/usr/local/lib/python3.7/dist-packages/ipykernel_launcher.py:1: UserWarning: `Model.fit_generator` is deprecated and will be removed in a future version. Please use `Model.fit`, which supports generators.\n",
            "  \"\"\"Entry point for launching an IPython kernel.\n"
          ]
        },
        {
          "output_type": "stream",
          "name": "stdout",
          "text": [
            "Epoch 1/10\n",
            "33/33 [==============================] - 88s 3s/step - loss: 0.7353 - accuracy: 0.6456\n",
            "Epoch 2/10\n",
            "33/33 [==============================] - 86s 3s/step - loss: 0.3048 - accuracy: 0.9182\n",
            "Epoch 3/10\n",
            "33/33 [==============================] - 92s 3s/step - loss: 0.1588 - accuracy: 0.9416\n",
            "Epoch 4/10\n",
            "33/33 [==============================] - 93s 3s/step - loss: 0.2126 - accuracy: 0.9503\n",
            "Epoch 5/10\n",
            "33/33 [==============================] - 94s 3s/step - loss: 0.0274 - accuracy: 0.9873\n",
            "Epoch 6/10\n",
            "33/33 [==============================] - 94s 3s/step - loss: 0.2153 - accuracy: 0.9601\n",
            "Epoch 7/10\n",
            "33/33 [==============================] - 90s 3s/step - loss: 0.0766 - accuracy: 0.9708\n",
            "Epoch 8/10\n",
            "33/33 [==============================] - 88s 3s/step - loss: 0.0033 - accuracy: 1.0000\n",
            "Epoch 9/10\n",
            "33/33 [==============================] - 86s 3s/step - loss: 1.4853e-04 - accuracy: 1.0000\n",
            "Epoch 10/10\n",
            "33/33 [==============================] - 87s 3s/step - loss: 1.9330e-05 - accuracy: 1.0000\n"
          ]
        }
      ]
    },
    {
      "cell_type": "markdown",
      "source": [
        "#Добавим валидацию"
      ],
      "metadata": {
        "id": "x0Jw2lUyPi8t"
      }
    },
    {
      "cell_type": "code",
      "source": [
        "validation_url = \"https://storage.googleapis.com/laurencemoroney-blog.appspot.com/validation-horse-or-human.zip\""
      ],
      "metadata": {
        "id": "tHigrJq0Pd4x"
      },
      "execution_count": 27,
      "outputs": []
    },
    {
      "cell_type": "code",
      "source": [
        "validation_file_name =\"valudation-horse-or-human.zip\"\n",
        "validation_dir = \"horse-or-human/validation/\"\n",
        "urllib.request.urlretrieve(validation_url, validation_file_name)"
      ],
      "metadata": {
        "colab": {
          "base_uri": "https://localhost:8080/"
        },
        "id": "TjaCwMIyPxs8",
        "outputId": "4abdb3a7-b2fc-402f-9dc3-dc894c822f42"
      },
      "execution_count": 28,
      "outputs": [
        {
          "output_type": "execute_result",
          "data": {
            "text/plain": [
              "('valudation-horse-or-human.zip', <http.client.HTTPMessage at 0x7f71eeea3950>)"
            ]
          },
          "metadata": {},
          "execution_count": 28
        }
      ]
    },
    {
      "cell_type": "code",
      "source": [
        "zip_ref = zipfile.ZipFile(validation_file_name, 'r')\n",
        "zip_ref.extractall(validation_dir)\n",
        "zip_ref.close()"
      ],
      "metadata": {
        "id": "ufvWVCzrQLe-"
      },
      "execution_count": 29,
      "outputs": []
    },
    {
      "cell_type": "markdown",
      "source": [
        "**Создаем генератор для валидации**"
      ],
      "metadata": {
        "id": "60rv_jXPQbkE"
      }
    },
    {
      "cell_type": "code",
      "source": [
        "validation_datagen = ImageDataGenerator(rescale=1/255)\n",
        "\n",
        "validation_generator = train_datagen.flow_from_directory(\n",
        "    validation_dir,\n",
        "    target_size=(300, 300),\n",
        "    class_mode='binary'\n",
        ")"
      ],
      "metadata": {
        "colab": {
          "base_uri": "https://localhost:8080/"
        },
        "id": "UF4cBzavQeht",
        "outputId": "ebb279a6-c239-49d0-8378-676e00c820d2"
      },
      "execution_count": 44,
      "outputs": [
        {
          "output_type": "stream",
          "name": "stdout",
          "text": [
            "Found 256 images belonging to 2 classes.\n"
          ]
        }
      ]
    },
    {
      "cell_type": "markdown",
      "source": [
        "сделаем новую модель но с вализацией"
      ],
      "metadata": {
        "id": "TDNvUWCsV-3p"
      }
    },
    {
      "cell_type": "code",
      "source": [
        "#копируем модель и запускаем обучение\n",
        "#нужно это реализовать"
      ],
      "metadata": {
        "id": "_WCJGeHrWGUI"
      },
      "execution_count": null,
      "outputs": []
    },
    {
      "cell_type": "code",
      "source": [
        "history = model.fit_generator(train_generator, epochs=3 , validation_data = validation_generator)"
      ],
      "metadata": {
        "colab": {
          "base_uri": "https://localhost:8080/"
        },
        "id": "v-pvV2gORNHf",
        "outputId": "b2600b52-11b3-4bc6-d5c4-6c51de5d0f9b"
      },
      "execution_count": 48,
      "outputs": [
        {
          "output_type": "stream",
          "name": "stderr",
          "text": [
            "/usr/local/lib/python3.7/dist-packages/ipykernel_launcher.py:1: UserWarning: `Model.fit_generator` is deprecated and will be removed in a future version. Please use `Model.fit`, which supports generators.\n",
            "  \"\"\"Entry point for launching an IPython kernel.\n"
          ]
        },
        {
          "output_type": "stream",
          "name": "stdout",
          "text": [
            "Epoch 1/3\n",
            "33/33 [==============================] - 100s 3s/step - loss: 4.3818e-04 - accuracy: 1.0000 - val_loss: 1.7850 - val_accuracy: 0.8789\n",
            "Epoch 2/3\n",
            "33/33 [==============================] - 94s 3s/step - loss: 0.1080 - accuracy: 0.9844 - val_loss: 1.9582 - val_accuracy: 0.7891\n",
            "Epoch 3/3\n",
            "33/33 [==============================] - 97s 3s/step - loss: 0.0016 - accuracy: 1.0000 - val_loss: 3.1722 - val_accuracy: 0.7930\n"
          ]
        }
      ]
    },
    {
      "cell_type": "code",
      "source": [
        "classes = model.predict(validation_generator)"
      ],
      "metadata": {
        "id": "VKKB7n4fT5at"
      },
      "execution_count": 49,
      "outputs": []
    },
    {
      "cell_type": "code",
      "source": [
        "for item in classes:\n",
        "  if item > 0.5:\n",
        "    print('Human')\n",
        "  else:\n",
        "    print('Horse')"
      ],
      "metadata": {
        "colab": {
          "base_uri": "https://localhost:8080/"
        },
        "id": "2IypxVzXUC95",
        "outputId": "80565bfc-a931-4a06-fc73-1eecfdd0a5d1"
      },
      "execution_count": 50,
      "outputs": [
        {
          "output_type": "stream",
          "name": "stdout",
          "text": [
            "Horse\n",
            "Human\n",
            "Human\n",
            "Horse\n",
            "Human\n",
            "Human\n",
            "Human\n",
            "Horse\n",
            "Human\n",
            "Human\n",
            "Human\n",
            "Human\n",
            "Human\n",
            "Horse\n",
            "Human\n",
            "Human\n",
            "Horse\n",
            "Horse\n",
            "Human\n",
            "Horse\n",
            "Human\n",
            "Human\n",
            "Human\n",
            "Human\n",
            "Human\n",
            "Horse\n",
            "Human\n",
            "Horse\n",
            "Horse\n",
            "Horse\n",
            "Horse\n",
            "Human\n",
            "Human\n",
            "Human\n",
            "Horse\n",
            "Horse\n",
            "Human\n",
            "Human\n",
            "Human\n",
            "Horse\n",
            "Human\n",
            "Horse\n",
            "Human\n",
            "Human\n",
            "Human\n",
            "Horse\n",
            "Human\n",
            "Human\n",
            "Human\n",
            "Human\n",
            "Horse\n",
            "Human\n",
            "Horse\n",
            "Human\n",
            "Horse\n",
            "Human\n",
            "Human\n",
            "Horse\n",
            "Human\n",
            "Human\n",
            "Human\n",
            "Horse\n",
            "Horse\n",
            "Horse\n",
            "Human\n",
            "Horse\n",
            "Horse\n",
            "Horse\n",
            "Horse\n",
            "Human\n",
            "Horse\n",
            "Horse\n",
            "Human\n",
            "Human\n",
            "Human\n",
            "Human\n",
            "Human\n",
            "Human\n",
            "Horse\n",
            "Human\n",
            "Human\n",
            "Human\n",
            "Human\n",
            "Human\n",
            "Human\n",
            "Human\n",
            "Horse\n",
            "Horse\n",
            "Human\n",
            "Horse\n",
            "Human\n",
            "Human\n",
            "Horse\n",
            "Horse\n",
            "Horse\n",
            "Human\n",
            "Human\n",
            "Human\n",
            "Horse\n",
            "Human\n",
            "Horse\n",
            "Horse\n",
            "Human\n",
            "Human\n",
            "Human\n",
            "Horse\n",
            "Human\n",
            "Horse\n",
            "Human\n",
            "Human\n",
            "Horse\n",
            "Human\n",
            "Human\n",
            "Human\n",
            "Horse\n",
            "Human\n",
            "Human\n",
            "Horse\n",
            "Human\n",
            "Horse\n",
            "Human\n",
            "Human\n",
            "Horse\n",
            "Horse\n",
            "Human\n",
            "Human\n",
            "Horse\n",
            "Human\n",
            "Horse\n",
            "Horse\n",
            "Human\n",
            "Human\n",
            "Human\n",
            "Human\n",
            "Human\n",
            "Horse\n",
            "Human\n",
            "Human\n",
            "Human\n",
            "Human\n",
            "Human\n",
            "Horse\n",
            "Human\n",
            "Human\n",
            "Human\n",
            "Horse\n",
            "Human\n",
            "Horse\n",
            "Human\n",
            "Horse\n",
            "Human\n",
            "Human\n",
            "Human\n",
            "Horse\n",
            "Human\n",
            "Human\n",
            "Human\n",
            "Horse\n",
            "Human\n",
            "Human\n",
            "Human\n",
            "Human\n",
            "Horse\n",
            "Horse\n",
            "Human\n",
            "Human\n",
            "Human\n",
            "Human\n",
            "Human\n",
            "Human\n",
            "Human\n",
            "Horse\n",
            "Human\n",
            "Human\n",
            "Human\n",
            "Human\n",
            "Human\n",
            "Human\n",
            "Human\n",
            "Human\n",
            "Human\n",
            "Human\n",
            "Horse\n",
            "Human\n",
            "Horse\n",
            "Human\n",
            "Horse\n",
            "Human\n",
            "Horse\n",
            "Human\n",
            "Human\n",
            "Human\n",
            "Human\n",
            "Human\n",
            "Human\n",
            "Human\n",
            "Human\n",
            "Human\n",
            "Horse\n",
            "Horse\n",
            "Human\n",
            "Human\n",
            "Horse\n",
            "Horse\n",
            "Human\n",
            "Human\n",
            "Human\n",
            "Human\n",
            "Human\n",
            "Human\n",
            "Horse\n",
            "Horse\n",
            "Human\n",
            "Horse\n",
            "Horse\n",
            "Human\n",
            "Human\n",
            "Human\n",
            "Human\n",
            "Human\n",
            "Human\n",
            "Human\n",
            "Human\n",
            "Human\n",
            "Human\n",
            "Human\n",
            "Human\n",
            "Human\n",
            "Human\n",
            "Horse\n",
            "Horse\n",
            "Human\n",
            "Human\n",
            "Human\n",
            "Human\n",
            "Human\n",
            "Human\n",
            "Human\n",
            "Human\n",
            "Human\n",
            "Human\n",
            "Human\n",
            "Human\n",
            "Human\n",
            "Horse\n",
            "Human\n",
            "Horse\n",
            "Human\n",
            "Human\n",
            "Human\n",
            "Human\n",
            "Horse\n",
            "Horse\n",
            "Human\n",
            "Human\n",
            "Human\n"
          ]
        }
      ]
    }
  ]
}