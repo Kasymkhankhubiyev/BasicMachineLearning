{
  "nbformat": 4,
  "nbformat_minor": 0,
  "metadata": {
    "colab": {
      "provenance": []
    },
    "kernelspec": {
      "name": "python3",
      "display_name": "Python 3"
    },
    "language_info": {
      "name": "python"
    }
  },
  "cells": [
    {
      "cell_type": "code",
      "source": [
        "import xgboost as xgb\n",
        "from xgboost import XGBRegressor\n",
        "import lightgbm as lgb\n",
        "from lightgbm import LGBMRegressor\n",
        "from sklearn.ensemble import RandomForestRegressor, GradientBoostingRegressor"
      ],
      "metadata": {
        "id": "mbysKdwnJm1k"
      },
      "execution_count": 1,
      "outputs": []
    },
    {
      "cell_type": "code",
      "source": [
        "from sklearn.metrics import mean_squared_error, accuracy_score\n",
        "from sklearn.preprocessing import LabelEncoder, StandardScaler\n",
        "from sklearn.model_selection import train_test_split, GridSearchCV\n",
        "from sklearn.impute import SimpleImputer\n",
        "from sklearn.decomposition import PCA\n",
        "from sklearn.tree import DecisionTreeRegressor\n",
        "from sklearn.cluster import KMeans"
      ],
      "metadata": {
        "id": "o8vT1yT3naTD"
      },
      "execution_count": 2,
      "outputs": []
    },
    {
      "cell_type": "code",
      "source": [
        "import pandas as pd\n",
        "import numpy as np"
      ],
      "metadata": {
        "id": "FVfFz8T7ngon"
      },
      "execution_count": 3,
      "outputs": []
    },
    {
      "cell_type": "markdown",
      "source": [
        "#Подготовка Данных"
      ],
      "metadata": {
        "id": "48OnSrxip6D9"
      }
    },
    {
      "cell_type": "code",
      "source": [
        "train_data = pd.read_csv('/content/drive/MyDrive/Colab Notebooks/ML 4 course/nsu_train.csv')\n",
        "test_data = pd.read_csv('/content/drive/MyDrive/Colab Notebooks/ML 4 course/nsu_test.csv')"
      ],
      "metadata": {
        "id": "wzKN58RZnrat"
      },
      "execution_count": 4,
      "outputs": []
    },
    {
      "cell_type": "code",
      "source": [
        "train_data.info()"
      ],
      "metadata": {
        "id": "Zv4OktKDGNd9",
        "colab": {
          "base_uri": "https://localhost:8080/"
        },
        "outputId": "338f8837-a31f-40c6-c17e-6264cac940f6"
      },
      "execution_count": 5,
      "outputs": [
        {
          "output_type": "stream",
          "name": "stdout",
          "text": [
            "<class 'pandas.core.frame.DataFrame'>\n",
            "RangeIndex: 25062 entries, 0 to 25061\n",
            "Data columns (total 18 columns):\n",
            " #   Column            Non-Null Count  Dtype  \n",
            "---  ------            --------------  -----  \n",
            " 0   Name              25062 non-null  object \n",
            " 1   Category          25062 non-null  object \n",
            " 2   Brand             25061 non-null  object \n",
            " 3   Seller            25031 non-null  object \n",
            " 4   Color             127 non-null    object \n",
            " 5   Comments          25062 non-null  float64\n",
            " 6   Final price       25062 non-null  float64\n",
            " 7   Max price         25062 non-null  float64\n",
            " 8   Min price         25062 non-null  float64\n",
            " 9   Average price     19264 non-null  float64\n",
            " 10  Sales             25062 non-null  float64\n",
            " 11  Days in stock     25062 non-null  float64\n",
            " 12  Days with sales   25062 non-null  int64  \n",
            " 13  Rating            25062 non-null  object \n",
            " 14  Basic Sale        25062 non-null  float64\n",
            " 15  Basic Sale Price  25062 non-null  float64\n",
            " 16  Base price        25062 non-null  float64\n",
            " 17  full_category     25062 non-null  object \n",
            "dtypes: float64(10), int64(1), object(7)\n",
            "memory usage: 3.4+ MB\n"
          ]
        }
      ]
    },
    {
      "cell_type": "markdown",
      "source": [
        "Добавим среднюю цену среди категории"
      ],
      "metadata": {
        "id": "fUbuH_ojoq1p"
      }
    },
    {
      "cell_type": "code",
      "source": [
        "avg_price_per_category = []\n",
        "for cat in np.unique(train_data['Category'].values):\n",
        "    # print(cat)\n",
        "    avg_price_per_category.append(train_data[train_data['Category'] == cat]['Average price'].mean())\n",
        "    cat_mean_price = train_data[train_data['Category'] == cat]['Average price'].mean()\n",
        "    train_data.loc[train_data['Category'] == cat, 'Avg_price_per_category'] = cat_mean_price\n",
        "# print(avg_price_per_category)\n",
        "# train_data.head()\n",
        "\n",
        "avg_price_per_category = []\n",
        "for cat in np.unique(test_data['Category'].values):\n",
        "    # print(cat)\n",
        "    avg_price_per_category.append(test_data[test_data['Category'] == cat]['Average price'].mean())\n",
        "    cat_mean_price = test_data[test_data['Category'] == cat]['Average price'].mean()\n",
        "    test_data.loc[test_data['Category'] == cat, 'Avg_price_per_category'] = cat_mean_price"
      ],
      "metadata": {
        "id": "w-9kCa6ghC6B"
      },
      "execution_count": 6,
      "outputs": []
    },
    {
      "cell_type": "markdown",
      "source": [
        "Добавим фичу, если средняя цена продажи не выше чем средняя цена по сегменту - 1, иначе 0\n",
        "\n",
        "\n"
      ],
      "metadata": {
        "id": "kbE3j0acox0h"
      }
    },
    {
      "cell_type": "code",
      "source": [
        "train_data['avg_price_not_more_than_evg_cat'] = np.where((train_data['Avg_price_per_category'] >= train_data['Average price']), 1, 0)\n",
        "train_data['avg_price_not_more_than_evg_cat'] = train_data['avg_price_not_more_than_evg_cat'].astype('object')\n",
        "\n",
        "test_data['avg_price_not_more_than_evg_cat'] = np.where((test_data['Avg_price_per_category'] >= test_data['Average price']), 1, 0)\n",
        "test_data['avg_price_not_more_than_evg_cat'] = test_data['avg_price_not_more_than_evg_cat'].astype('object')\n",
        "\n",
        "ratings = train_data['Rating'].values\n",
        "num_ratings = [int(rating.split(',')[0]) for rating in ratings]\n",
        "train_data['Rating'] = num_ratings\n",
        "\n",
        "ratings = test_data['Rating'].values\n",
        "num_ratings = [int(rating.split(',')[0]) for rating in ratings]\n",
        "test_data['Rating'] = num_ratings"
      ],
      "metadata": {
        "id": "zwW4iGpiowwA"
      },
      "execution_count": 7,
      "outputs": []
    },
    {
      "cell_type": "code",
      "source": [
        "# print(f\"mean: {train_data['Comments'][:len(train_data['Comments'].values)].mean()}\")\n",
        "print(f\"mean: {train_data.sort_values(by='Comments').loc[:len(train_data.sort_values(by='Comments')['Comments'].values)-1, 'Comments'].mean()}\")\n",
        "\n",
        "# train_data.sort_values(by='Comments').loc[:len(train_data.sort_values(by='Comments')['Comments'].values)-1, 'Comments'].value_counts()"
      ],
      "metadata": {
        "colab": {
          "base_uri": "https://localhost:8080/"
        },
        "id": "5YQuXnVcE-yq",
        "outputId": "4c7c41ea-1a32-4012-a86e-1f05c1d08759"
      },
      "execution_count": 8,
      "outputs": [
        {
          "output_type": "stream",
          "name": "stdout",
          "text": [
            "mean: 4.590824942430126\n"
          ]
        }
      ]
    },
    {
      "cell_type": "code",
      "source": [
        "train_data['comments_more_than_avg'] = (train_data['Comments'] > 5).astype('object')\n",
        "# pd.crosstab(train_data['comments_more_than_avg'], train_data['Sales'], margins=True)\n",
        "test_data['comments_more_than_avg'] = (test_data['Comments'] > 5).astype('object')"
      ],
      "metadata": {
        "id": "5bh4pEYqqA5f"
      },
      "execution_count": 9,
      "outputs": []
    },
    {
      "cell_type": "code",
      "source": [
        "import seaborn as sns\n",
        "import matplotlib.pyplot as plt"
      ],
      "metadata": {
        "id": "fglhNh-7sZca"
      },
      "execution_count": 10,
      "outputs": []
    },
    {
      "cell_type": "code",
      "source": [
        "def deleteId(ds):\n",
        "    return ds.drop(columns='Id')\n",
        "\n",
        "def deleteNaN(train_ds, test_ds, critval):\n",
        "    fullsize = train_ds.shape[0]\n",
        "    new_train = train_ds.copy()\n",
        "    new_test = test_ds.copy()\n",
        "    for feature in new_train.columns:\n",
        "        nulls = new_train[feature].isnull().sum()\n",
        "        percent = nulls / fullsize\n",
        "        # если доля пустых значений превышает critval - столбец не информативен,\n",
        "        # можно его выбросить\n",
        "        if (percent > critval):\n",
        "            new_train = new_train.drop(columns=feature)\n",
        "            new_test = new_test.drop(columns=feature)\n",
        "    return new_train, new_test\n",
        "\n",
        "def convertToNumeric(train_ds, test_ds):\n",
        "    new_train = train_ds.copy()\n",
        "    new_test = test_ds.copy()\n",
        "    LE = LabelEncoder()\n",
        "    for feature in new_train.columns:\n",
        "        if (new_train[feature].dtype == 'object'):\n",
        "            new_train[feature] = LE.fit_transform(new_train[feature])\n",
        "            new_test[feature] = LE.fit_transform(new_test[feature])\n",
        "    return new_train, new_test"
      ],
      "metadata": {
        "id": "qT3Bc2LXX4hS"
      },
      "execution_count": 11,
      "outputs": []
    },
    {
      "cell_type": "code",
      "source": [
        "train = train_data.drop_duplicates()\n",
        "\n",
        "# train = train.drop(columns='Id')\n",
        "train = train.drop(columns='Color')\n",
        "train = train.drop(columns='Base price')\n",
        "train = train.drop(columns='Basic Sale Price')\n",
        "\n",
        "test = test_data.drop(columns='Id')\n",
        "test = test.drop(columns='Color')\n",
        "test = test.drop(columns='Base price')\n",
        "test = test.drop(columns='Basic Sale Price')\n",
        "\n",
        "train, test = deleteNaN(train, test, critval=0.8)\n",
        "train, test = convertToNumeric(train, test)\n",
        "\n",
        "train_y = train['Sales'].values\n",
        "train_X = train.drop(columns='Sales').values\n",
        "val_test = test.values\n",
        "\n",
        "train_x, test_x, train_y, test_y = train_test_split(train_X, train_y, test_size=0.1, random_state=7)  # random_state=98987)"
      ],
      "metadata": {
        "id": "DEGDOnVsp4kz"
      },
      "execution_count": 12,
      "outputs": []
    },
    {
      "cell_type": "markdown",
      "source": [
        "#Избавимся от NaN значений\n"
      ],
      "metadata": {
        "id": "DkaGEa8Zp5fd"
      }
    },
    {
      "cell_type": "code",
      "source": [
        "strategies = ['mean', 'median', 'most_frequent']\n",
        "imputer = SimpleImputer(strategy=strategies[1])\n",
        "trainX = imputer.fit_transform(train_x)\n",
        "testX = imputer.fit_transform(test_x)\n",
        "val_test_x = imputer.fit_transform(val_test)"
      ],
      "metadata": {
        "id": "o-JwYRLZq88o"
      },
      "execution_count": 13,
      "outputs": []
    },
    {
      "cell_type": "code",
      "source": [
        "scaler = StandardScaler()\n",
        "trainX = scaler.fit_transform(trainX)\n",
        "testX = scaler.transform(testX)\n",
        "val_test_x = scaler.transform(val_test_x)"
      ],
      "metadata": {
        "id": "MCgRmuVQq_v6"
      },
      "execution_count": 14,
      "outputs": []
    },
    {
      "cell_type": "markdown",
      "source": [
        "#Метрика **SMAPE**"
      ],
      "metadata": {
        "id": "_B6VcRZ4sDQQ"
      }
    },
    {
      "cell_type": "code",
      "source": [
        "def smape(A, F):\n",
        "    with np.errstate(divide='ignore', invalid='ignore'):\n",
        "        tmp = 2 * np.abs(F-A) / (np.abs(A) + np.abs(F))\n",
        "    tmp[np.isnan(tmp)] = 0\n",
        "    return np.sum(tmp) / len(tmp) * 100"
      ],
      "metadata": {
        "id": "iNj1FN7QsLYG"
      },
      "execution_count": 18,
      "outputs": []
    },
    {
      "cell_type": "code",
      "source": [
        "def check_error(preds, gt):\n",
        "    print('SMAPE Error:', smape(np.round(preds), gt))\n",
        "    # print('RMSE Error:', mean_squared_error(np.round((np.abs(preds))), gt, squared=False))"
      ],
      "metadata": {
        "id": "r4i67YSlsKKP"
      },
      "execution_count": 19,
      "outputs": []
    },
    {
      "cell_type": "markdown",
      "source": [
        "#Модель комбинированная"
      ],
      "metadata": {
        "id": "NbrVYmMIRrX8"
      }
    },
    {
      "cell_type": "markdown",
      "source": [
        "###Подготовим алгоритм кластеризации"
      ],
      "metadata": {
        "id": "9Rw_wSHSR2Xc"
      }
    },
    {
      "cell_type": "code",
      "source": [
        "classes = 3\n",
        "\n",
        "model = KMeans(n_clusters=classes)\n",
        "model.fit(trainX)\n",
        "\n",
        "train_predictions = model.predict(trainX)\n",
        "test_predictions = model.predict(testX)\n"
      ],
      "metadata": {
        "id": "5Uj5Pfz9R5IC"
      },
      "execution_count": 30,
      "outputs": []
    },
    {
      "cell_type": "code",
      "source": [
        "trainX0, trainY0 = trainX[np.where(train_predictions==0)], train_y[np.where(train_predictions==0)]\n",
        "testX0, testY0 = testX[np.where(test_predictions==0)], test_y[np.where(test_predictions==0)]\n",
        "\n",
        "trainX1, trainY1 = trainX[np.where(train_predictions==1)], train_y[np.where(train_predictions==1)]\n",
        "testX1, testY1 = testX[np.where(test_predictions==1)], test_y[np.where(test_predictions==1)]\n",
        "\n",
        "trainX2, trainY2 = trainX[np.where(train_predictions==2)], train_y[np.where(train_predictions==2)]\n",
        "testX2, testY2 = testX[np.where(test_predictions==2)], test_y[np.where(test_predictions==2)]"
      ],
      "metadata": {
        "id": "RO59LyUNPlDc"
      },
      "execution_count": 31,
      "outputs": []
    },
    {
      "cell_type": "code",
      "source": [
        "last_rf_best_params = {\n",
        "    'criterion': 'absolute_error', \n",
        "    'max_depth': 300,  # 300\n",
        "    'n_estimators': 70, # 70\n",
        "    'min_samples_leaf': 5, # 3\n",
        "    'min_samples_split': 3 # 50\n",
        "}\n",
        "\n",
        "# random_forest = RandomForestRegressor(**rf_gs_model.best_params_)\n",
        "rf0 = RandomForestRegressor(**last_rf_best_params) \n",
        "rf0.fit(trainX0, trainY0)\n",
        "check_error(rf0.predict(testX0), testY0)"
      ],
      "metadata": {
        "colab": {
          "base_uri": "https://localhost:8080/"
        },
        "id": "2zk2mkD0Q_Yz",
        "outputId": "1c78a7c6-befc-481c-95c8-bc3cfe60010b"
      },
      "execution_count": 38,
      "outputs": [
        {
          "output_type": "stream",
          "name": "stdout",
          "text": [
            "SMAPE Error: 16.981298659032195\n"
          ]
        }
      ]
    },
    {
      "cell_type": "code",
      "source": [
        "last_rf_best_params = {\n",
        "    'criterion': 'absolute_error', \n",
        "    'max_depth': 1000,  # 300\n",
        "    'n_estimators': 40, # 70\n",
        "    'min_samples_leaf': 5, # 5\n",
        "    'min_samples_split': 3 # 3\n",
        "}\n",
        "\n",
        "# 300, 70, 5, 3 - 34.8\n",
        "# 500, 50, 5, 3 - 34.58\n",
        "# random_forest = RandomForestRegressor(**rf_gs_model.best_params_)\n",
        "rf1 = RandomForestRegressor(**last_rf_best_params) \n",
        "rf1.fit(trainX1, trainY1)\n",
        "check_error(rf1.predict(testX1), testY1)"
      ],
      "metadata": {
        "colab": {
          "base_uri": "https://localhost:8080/"
        },
        "id": "FiRij0iFRTEl",
        "outputId": "5350af17-1bda-4d7e-b2a3-5a6244f4441d"
      },
      "execution_count": 49,
      "outputs": [
        {
          "output_type": "stream",
          "name": "stdout",
          "text": [
            "SMAPE Error: 34.67747245404751\n"
          ]
        }
      ]
    },
    {
      "cell_type": "code",
      "source": [
        "last_rf_best_params = {\n",
        "    'criterion': 'absolute_error', \n",
        "    'max_depth': 300,  # 300\n",
        "    'n_estimators': 70, # 70\n",
        "    'min_samples_leaf': 5, # 3\n",
        "    'min_samples_split': 3 # 50\n",
        "}\n",
        "\n",
        "# random_forest = RandomForestRegressor(**rf_gs_model.best_params_)\n",
        "rf2 = RandomForestRegressor(**last_rf_best_params) \n",
        "rf2.fit(trainX2, trainY2)\n",
        "check_error(rf2.predict(testX2), testY2)"
      ],
      "metadata": {
        "colab": {
          "base_uri": "https://localhost:8080/"
        },
        "id": "iNviDgkORTtA",
        "outputId": "569c322b-4508-4047-fbea-f79407b3e9e1"
      },
      "execution_count": 36,
      "outputs": [
        {
          "output_type": "stream",
          "name": "stdout",
          "text": [
            "SMAPE Error: 13.1758048018375\n"
          ]
        }
      ]
    },
    {
      "cell_type": "code",
      "source": [
        "def Predict(samples):\n",
        "    prediction = []\n",
        "    for sample in samples:\n",
        "        claster = model.predict([sample])\n",
        "        if claster == 0:\n",
        "            prediction.append(np.round(rf0.predict([sample])))\n",
        "        elif claster == 1:\n",
        "            prediction.append(np.round(rf1.predict([sample])))\n",
        "        elif claster == 2:\n",
        "            prediction.append(np.round(rf2.predict([sample])))\n",
        "    return np.array(prediction)"
      ],
      "metadata": {
        "id": "YayYA2W7Siyp"
      },
      "execution_count": 43,
      "outputs": []
    },
    {
      "cell_type": "markdown",
      "source": [
        "#Соревы"
      ],
      "metadata": {
        "id": "RTSASGWvRUCv"
      }
    },
    {
      "cell_type": "code",
      "source": [
        "submission_path = '/content/drive/MyDrive/Colab Notebooks/ML 4 course/nsu_sample_solution.csv'\n",
        "submission = pd.read_csv(submission_path)"
      ],
      "metadata": {
        "id": "Y55nrbHTRhSX"
      },
      "execution_count": 39,
      "outputs": []
    },
    {
      "cell_type": "code",
      "source": [
        "predictions0 = np.round(rf0.predict(val_test_x))\n",
        "predictions1 = np.round(rf11.predict(val_test_x))\n",
        "predictions2 = np.round(xgb_reg.predict(val_test_x))\n",
        "# predictions0.shape\n",
        "val_samples = val_test_x\n",
        "val_samples = np.insert(val_samples, 0, predictions0, axis=1)\n",
        "val_samples = np.insert(val_samples, 0, predictions1, axis=1)\n",
        "val_samples = np.insert(val_samples, 0, predictions2, axis=1)\n",
        "val_samples.shape\n",
        "scaler = StandardScaler()\n",
        "val_samples = scaler.fit_transform(val_samples)\n",
        "\n",
        "predictions = np.round(random_forest.predict(val_samples))\n",
        "submission['Expected'] = predictions\n",
        "submission\n",
        "submission.to_csv('submission_rf.csv', index=False)"
      ],
      "metadata": {
        "id": "5UNiSybVY8hD"
      },
      "execution_count": null,
      "outputs": []
    },
    {
      "cell_type": "code",
      "source": [
        "predictions = Predict(val_test_x)\n",
        "submission['Expected'] = predictions\n",
        "submission\n",
        "submission.to_csv('submission_meta.csv', index=False)"
      ],
      "metadata": {
        "id": "AwCUPjthTeMX"
      },
      "execution_count": 44,
      "outputs": []
    },
    {
      "cell_type": "code",
      "source": [
        "sns.distplot(predictions)"
      ],
      "metadata": {
        "colab": {
          "base_uri": "https://localhost:8080/",
          "height": 337
        },
        "id": "AKway_swJDKf",
        "outputId": "92dec102-f698-423d-bf5c-295d6c41c008"
      },
      "execution_count": 45,
      "outputs": [
        {
          "output_type": "stream",
          "name": "stderr",
          "text": [
            "/usr/local/lib/python3.8/dist-packages/seaborn/distributions.py:2619: FutureWarning: `distplot` is a deprecated function and will be removed in a future version. Please adapt your code to use either `displot` (a figure-level function with similar flexibility) or `histplot` (an axes-level function for histograms).\n",
            "  warnings.warn(msg, FutureWarning)\n"
          ]
        },
        {
          "output_type": "execute_result",
          "data": {
            "text/plain": [
              "<matplotlib.axes._subplots.AxesSubplot at 0x7f9d06c9ef10>"
            ]
          },
          "metadata": {},
          "execution_count": 45
        },
        {
          "output_type": "display_data",
          "data": {
            "text/plain": [
              "<Figure size 432x288 with 1 Axes>"
            ],
            "image/png": "[encoded data removed]"
          },
          "metadata": {
            "needs_background": "light"
          }
        }
      ]
    },
    {
      "cell_type": "code",
      "source": [
        "predictions = np.round(xgb_reg.predict(val_test_x))\n",
        "submission['Expected'] = predictions\n",
        "submission\n",
        "submission.to_csv('submission_xgboost.csv', index=False)"
      ],
      "metadata": {
        "id": "25rH9rrg9a8H"
      },
      "execution_count": null,
      "outputs": []
    }
  ]
}