{
  "nbformat": 4,
  "nbformat_minor": 0,
  "metadata": {
    "colab": {
      "provenance": []
    },
    "kernelspec": {
      "name": "python3",
      "display_name": "Python 3"
    },
    "language_info": {
      "name": "python"
    }
  },
  "cells": [
    {
      "cell_type": "code",
      "source": [
        "import xgboost as xgb\n",
        "from xgboost import XGBRegressor\n",
        "import lightgbm as lgb\n",
        "from lightgbm import LGBMRegressor\n",
        "from sklearn.ensemble import RandomForestRegressor, GradientBoostingRegressor"
      ],
      "metadata": {
        "id": "mbysKdwnJm1k"
      },
      "execution_count": 1,
      "outputs": []
    },
    {
      "cell_type": "code",
      "source": [
        "from sklearn.metrics import mean_squared_error, accuracy_score\n",
        "from sklearn.preprocessing import LabelEncoder, StandardScaler\n",
        "from sklearn.model_selection import train_test_split, GridSearchCV\n",
        "from sklearn.impute import SimpleImputer\n",
        "from sklearn.decomposition import PCA\n",
        "from sklearn.tree import DecisionTreeRegressor"
      ],
      "metadata": {
        "id": "o8vT1yT3naTD"
      },
      "execution_count": 2,
      "outputs": []
    },
    {
      "cell_type": "code",
      "source": [
        "import pandas as pd\n",
        "import numpy as np"
      ],
      "metadata": {
        "id": "FVfFz8T7ngon"
      },
      "execution_count": 3,
      "outputs": []
    },
    {
      "cell_type": "markdown",
      "source": [
        "#Подготовка Данных"
      ],
      "metadata": {
        "id": "48OnSrxip6D9"
      }
    },
    {
      "cell_type": "code",
      "source": [
        "train_data = pd.read_csv('/content/drive/MyDrive/Colab Notebooks/ML 4 course/nsu_train.csv')\n",
        "test_data = pd.read_csv('/content/drive/MyDrive/Colab Notebooks/ML 4 course/nsu_test.csv')"
      ],
      "metadata": {
        "id": "wzKN58RZnrat"
      },
      "execution_count": 115,
      "outputs": []
    },
    {
      "cell_type": "code",
      "source": [
        "train_data.info()"
      ],
      "metadata": {
        "id": "Zv4OktKDGNd9",
        "colab": {
          "base_uri": "https://localhost:8080/"
        },
        "outputId": "363edee7-5d61-4013-c38b-4e39fd066839"
      },
      "execution_count": 116,
      "outputs": [
        {
          "output_type": "stream",
          "name": "stdout",
          "text": [
            "<class 'pandas.core.frame.DataFrame'>\n",
            "RangeIndex: 25062 entries, 0 to 25061\n",
            "Data columns (total 18 columns):\n",
            " #   Column            Non-Null Count  Dtype  \n",
            "---  ------            --------------  -----  \n",
            " 0   Name              25062 non-null  object \n",
            " 1   Category          25062 non-null  object \n",
            " 2   Brand             25061 non-null  object \n",
            " 3   Seller            25031 non-null  object \n",
            " 4   Color             127 non-null    object \n",
            " 5   Comments          25062 non-null  float64\n",
            " 6   Final price       25062 non-null  float64\n",
            " 7   Max price         25062 non-null  float64\n",
            " 8   Min price         25062 non-null  float64\n",
            " 9   Average price     19264 non-null  float64\n",
            " 10  Sales             25062 non-null  float64\n",
            " 11  Days in stock     25062 non-null  float64\n",
            " 12  Days with sales   25062 non-null  int64  \n",
            " 13  Rating            25062 non-null  object \n",
            " 14  Basic Sale        25062 non-null  float64\n",
            " 15  Basic Sale Price  25062 non-null  float64\n",
            " 16  Base price        25062 non-null  float64\n",
            " 17  full_category     25062 non-null  object \n",
            "dtypes: float64(10), int64(1), object(7)\n",
            "memory usage: 3.4+ MB\n"
          ]
        }
      ]
    },
    {
      "cell_type": "markdown",
      "source": [
        "Добавим среднюю цену среди категории"
      ],
      "metadata": {
        "id": "fUbuH_ojoq1p"
      }
    },
    {
      "cell_type": "code",
      "source": [
        "avg_price_per_category = []\n",
        "for cat in np.unique(train_data['Category'].values):\n",
        "    # print(cat)\n",
        "    avg_price_per_category.append(train_data[train_data['Category'] == cat]['Average price'].mean())\n",
        "    cat_mean_price = train_data[train_data['Category'] == cat]['Average price'].mean()\n",
        "    train_data.loc[train_data['Category'] == cat, 'Avg_price_per_category'] = cat_mean_price\n",
        "# print(avg_price_per_category)\n",
        "# train_data.head()\n",
        "\n",
        "avg_price_per_category = []\n",
        "for cat in np.unique(test_data['Category'].values):\n",
        "    # print(cat)\n",
        "    avg_price_per_category.append(test_data[test_data['Category'] == cat]['Average price'].mean())\n",
        "    cat_mean_price = test_data[test_data['Category'] == cat]['Average price'].mean()\n",
        "    test_data.loc[test_data['Category'] == cat, 'Avg_price_per_category'] = cat_mean_price"
      ],
      "metadata": {
        "id": "w-9kCa6ghC6B"
      },
      "execution_count": 117,
      "outputs": []
    },
    {
      "cell_type": "markdown",
      "source": [
        "Добавим фичу, если средняя цена продажи не выше чем средняя цена по сегменту - 1, иначе 0\n",
        "\n",
        "\n"
      ],
      "metadata": {
        "id": "kbE3j0acox0h"
      }
    },
    {
      "cell_type": "code",
      "source": [
        "train_data['avg_price_not_more_than_evg_cat'] = np.where((train_data['Avg_price_per_category'] >= train_data['Average price']), 1, 0)\n",
        "train_data['avg_price_not_more_than_evg_cat'] = train_data['avg_price_not_more_than_evg_cat'].astype('object')\n",
        "\n",
        "test_data['avg_price_not_more_than_evg_cat'] = np.where((test_data['Avg_price_per_category'] >= test_data['Average price']), 1, 0)\n",
        "test_data['avg_price_not_more_than_evg_cat'] = test_data['avg_price_not_more_than_evg_cat'].astype('object')\n",
        "\n",
        "ratings = train_data['Rating'].values\n",
        "num_ratings = [int(rating.split(',')[0]) for rating in ratings]\n",
        "train_data['Rating'] = num_ratings\n",
        "\n",
        "ratings = test_data['Rating'].values\n",
        "num_ratings = [int(rating.split(',')[0]) for rating in ratings]\n",
        "test_data['Rating'] = num_ratings"
      ],
      "metadata": {
        "id": "zwW4iGpiowwA"
      },
      "execution_count": 118,
      "outputs": []
    },
    {
      "cell_type": "code",
      "source": [
        "# print(f\"mean: {train_data['Comments'][:len(train_data['Comments'].values)].mean()}\")\n",
        "print(f\"mean: {train_data.sort_values(by='Comments').loc[:len(train_data.sort_values(by='Comments')['Comments'].values)-1, 'Comments'].mean()}\")\n",
        "\n",
        "# train_data.sort_values(by='Comments').loc[:len(train_data.sort_values(by='Comments')['Comments'].values)-1, 'Comments'].value_counts()"
      ],
      "metadata": {
        "colab": {
          "base_uri": "https://localhost:8080/"
        },
        "id": "5YQuXnVcE-yq",
        "outputId": "638139ba-8204-4145-ca8f-cdc114ddfbe8"
      },
      "execution_count": 119,
      "outputs": [
        {
          "output_type": "stream",
          "name": "stdout",
          "text": [
            "mean: 4.590824942430126\n"
          ]
        }
      ]
    },
    {
      "cell_type": "code",
      "source": [
        "train_data['comments_more_than_avg'] = (train_data['Comments'] > 5).astype('object')\n",
        "# pd.crosstab(train_data['comments_more_than_avg'], train_data['Sales'], margins=True)\n",
        "test_data['comments_more_than_avg'] = (test_data['Comments'] > 5).astype('object')"
      ],
      "metadata": {
        "id": "5bh4pEYqqA5f"
      },
      "execution_count": 120,
      "outputs": []
    },
    {
      "cell_type": "code",
      "source": [
        "import seaborn as sns\n",
        "import matplotlib.pyplot as plt"
      ],
      "metadata": {
        "id": "fglhNh-7sZca"
      },
      "execution_count": 121,
      "outputs": []
    },
    {
      "cell_type": "markdown",
      "source": [
        "**посмотрим на распределение цен**\n",
        "Видим, что у нас есть выборосы\n",
        "разделим датасет на 2 части"
      ],
      "metadata": {
        "id": "UpIwSjmgPSRC"
      }
    },
    {
      "cell_type": "code",
      "source": [
        "sns.distplot(train_data.Sales)"
      ],
      "metadata": {
        "id": "xegXX2EK9hP0",
        "colab": {
          "base_uri": "https://localhost:8080/",
          "height": 351
        },
        "outputId": "090e0546-50eb-483d-8939-ac20b9e34ca5"
      },
      "execution_count": 38,
      "outputs": [
        {
          "output_type": "stream",
          "name": "stderr",
          "text": [
            "/usr/local/lib/python3.8/dist-packages/seaborn/distributions.py:2619: FutureWarning: `distplot` is a deprecated function and will be removed in a future version. Please adapt your code to use either `displot` (a figure-level function with similar flexibility) or `histplot` (an axes-level function for histograms).\n",
            "  warnings.warn(msg, FutureWarning)\n"
          ]
        },
        {
          "output_type": "execute_result",
          "data": {
            "text/plain": [
              "<matplotlib.axes._subplots.AxesSubplot at 0x7fc2b2cac520>"
            ]
          },
          "metadata": {},
          "execution_count": 38
        },
        {
          "output_type": "display_data",
          "data": {
            "text/plain": [
              "<Figure size 432x288 with 1 Axes>"
            ],
            "image/png": "[encoded data removed]"
          },
          "metadata": {
            "needs_background": "light"
          }
        }
      ]
    },
    {
      "cell_type": "markdown",
      "source": [
        "Разделим датасет на 2 части: с продажами менее 100 единиц и более 100 единиц включительно"
      ],
      "metadata": {
        "id": "_OU9dOpi_gl9"
      }
    },
    {
      "cell_type": "code",
      "source": [
        "train_data_less = train_data[train_data['Sales'] < 100.0]\n",
        "_train_data = train_data[(train_data['Sales'] >= 100.0)]\n",
        "train_data_middle = _train_data[_train_data['Sales'] < 1000.0]\n",
        "train_data_more = _train_data[_train_data['Sales'] >= 1000.0]\n",
        "\n",
        "# train_data['max_sales'] = np.where((train_data['Sales'] > 100), 1, 0)\n",
        "# train_data['max_sales'] = (train_data['max_sales']).astype('object')\n",
        "\n",
        "# train_data['max_sales'].value_counts()\n",
        "\n",
        "# sales = train_data['Sales'].values\n",
        "# for i in range(len(sales)):\n",
        "#     if sales[i] > 100:\n",
        "#         sales[i] = 100\n",
        "\n",
        "# train_data['Sales'] = sales"
      ],
      "metadata": {
        "id": "n-pjTyhRHdAZ"
      },
      "execution_count": 123,
      "outputs": []
    },
    {
      "cell_type": "markdown",
      "source": [
        "**посмотрим на распределение продаж, у которых менее 100**"
      ],
      "metadata": {
        "id": "WnqNhmN0Poue"
      }
    },
    {
      "cell_type": "code",
      "source": [
        "sns.distplot(train_data_less.Sales)"
      ],
      "metadata": {
        "colab": {
          "base_uri": "https://localhost:8080/",
          "height": 351
        },
        "id": "WrxloFmtt6nk",
        "outputId": "cda96a6b-f380-4ee7-9dfe-26ae04ada8f5"
      },
      "execution_count": 124,
      "outputs": [
        {
          "output_type": "stream",
          "name": "stderr",
          "text": [
            "/usr/local/lib/python3.8/dist-packages/seaborn/distributions.py:2619: FutureWarning: `distplot` is a deprecated function and will be removed in a future version. Please adapt your code to use either `displot` (a figure-level function with similar flexibility) or `histplot` (an axes-level function for histograms).\n",
            "  warnings.warn(msg, FutureWarning)\n"
          ]
        },
        {
          "output_type": "execute_result",
          "data": {
            "text/plain": [
              "<matplotlib.axes._subplots.AxesSubplot at 0x7fc2acc59370>"
            ]
          },
          "metadata": {},
          "execution_count": 124
        },
        {
          "output_type": "display_data",
          "data": {
            "text/plain": [
              "<Figure size 432x288 with 1 Axes>"
            ],
            "image/png": "[encoded data removed]"
          },
          "metadata": {
            "needs_background": "light"
          }
        }
      ]
    },
    {
      "cell_type": "code",
      "source": [
        "train_data_more.sort_values(by='Sales', ascending=False).head()"
      ],
      "metadata": {
        "colab": {
          "base_uri": "https://localhost:8080/",
          "height": 681
        },
        "id": "mt1crNluQay5",
        "outputId": "d324e2ed-eaf7-4012-fafe-50937deda235"
      },
      "execution_count": 41,
      "outputs": [
        {
          "output_type": "execute_result",
          "data": {
            "text/plain": [
              "                                                    Name  \\\n",
              "18146  Весы кухонные электронные / для питания / прод...   \n",
              "17252                                      Пульсоксиметр   \n",
              "18690             Контактный гриль Tefal Inicio GC241D38   \n",
              "12537  Электрическая зубная щётка ORAL-B Vitality D10...   \n",
              "19743                     Машинка против катышек MW-3101   \n",
              "\n",
              "                                                Category           Brand  \\\n",
              "18146                   /Техника для кухни/Кухонные весы        Eco Ness   \n",
              "17252  /Красота и здоровье/Медицинские приборы/Пульсо...  FINGER O2XYGEN   \n",
              "18690  /Техника для кухни/Приготовление блюд/Грили эл...           Tefal   \n",
              "12537  /Красота и здоровье/Зубные щетки и ирригаторы/...          Oral-B   \n",
              "19743                   /Техника для дома/Уход за вещами         MAXWELL   \n",
              "\n",
              "                             Seller Color  Comments  Final price  Max price  \\\n",
              "18146  Козлов Алексей Николаевич ИП   NaN    3921.0        378.0      378.0   \n",
              "17252     Ганин Сергей Владимирович   NaN    1799.0        965.0      965.0   \n",
              "18690               ВАЙЛДБЕРРИЗ ООО   NaN    1167.0       3995.0     3995.0   \n",
              "12537               ВАЙЛДБЕРРИЗ ООО   NaN     759.0       2153.0     2153.0   \n",
              "19743        ГОЛДЕР-ЭЛЕКТРОНИКС ООО   NaN    1750.0        389.0      528.0   \n",
              "\n",
              "       Min price  Average price  ...  Days in stock  Days with sales  Rating  \\\n",
              "18146      378.0     378.000000  ...           31.0               31       5   \n",
              "17252      965.0     965.000000  ...           30.0               31       4   \n",
              "18690     3595.0    3730.237886  ...           28.0               30       5   \n",
              "12537     1722.0    1796.360077  ...           16.0               27       5   \n",
              "19743      340.0     452.976307  ...           20.0               24       5   \n",
              "\n",
              "       Basic Sale  Basic Sale Price  Base price  \\\n",
              "18146        55.0             504.0      1120.0   \n",
              "17252        80.0             965.0      4828.0   \n",
              "18690        50.0            3995.0      7990.0   \n",
              "12537         0.0            2153.0      2153.0   \n",
              "19743        19.0             486.0       601.0   \n",
              "\n",
              "                                           full_category  \\\n",
              "18146    Бытовая техника/Техника для кухни/Кухонные весы   \n",
              "17252  Бытовая техника/Красота и здоровье/Медицинские...   \n",
              "18690  Бытовая техника/Техника для кухни/Приготовлени...   \n",
              "12537  Бытовая техника/Красота и здоровье/Зубные щетк...   \n",
              "19743    Бытовая техника/Техника для дома/Уход за вещами   \n",
              "\n",
              "      Avg_price_per_category  avg_price_not_more_than_evg_cat  \\\n",
              "18146             896.083999                                1   \n",
              "17252            1018.662539                                1   \n",
              "18690            5666.356098                                1   \n",
              "12537            2665.404254                                1   \n",
              "19743             783.445899                                1   \n",
              "\n",
              "      comments_more_than_avg  \n",
              "18146                   True  \n",
              "17252                   True  \n",
              "18690                   True  \n",
              "12537                   True  \n",
              "19743                   True  \n",
              "\n",
              "[5 rows x 21 columns]"
            ],
            "text/html": [
              "\n",
              "  <div id=\"df-2a5c942b-523f-44ac-8d8f-aa1c2837ab60\">\n",
              "    <div class=\"colab-df-container\">\n",
              "      <div>\n",
              "<style scoped>\n",
              "    .dataframe tbody tr th:only-of-type {\n",
              "        vertical-align: middle;\n",
              "    }\n",
              "\n",
              "    .dataframe tbody tr th {\n",
              "        vertical-align: top;\n",
              "    }\n",
              "\n",
              "    .dataframe thead th {\n",
              "        text-align: right;\n",
              "    }\n",
              "</style>\n",
              "<table border=\"1\" class=\"dataframe\">\n",
              "  <thead>\n",
              "    <tr style=\"text-align: right;\">\n",
              "      <th></th>\n",
              "      <th>Name</th>\n",
              "      <th>Category</th>\n",
              "      <th>Brand</th>\n",
              "      <th>Seller</th>\n",
              "      <th>Color</th>\n",
              "      <th>Comments</th>\n",
              "      <th>Final price</th>\n",
              "      <th>Max price</th>\n",
              "      <th>Min price</th>\n",
              "      <th>Average price</th>\n",
              "      <th>...</th>\n",
              "      <th>Days in stock</th>\n",
              "      <th>Days with sales</th>\n",
              "      <th>Rating</th>\n",
              "      <th>Basic Sale</th>\n",
              "      <th>Basic Sale Price</th>\n",
              "      <th>Base price</th>\n",
              "      <th>full_category</th>\n",
              "      <th>Avg_price_per_category</th>\n",
              "      <th>avg_price_not_more_than_evg_cat</th>\n",
              "      <th>comments_more_than_avg</th>\n",
              "    </tr>\n",
              "  </thead>\n",
              "  <tbody>\n",
              "    <tr>\n",
              "      <th>18146</th>\n",
              "      <td>Весы кухонные электронные / для питания / прод...</td>\n",
              "      <td>/Техника для кухни/Кухонные весы</td>\n",
              "      <td>Eco Ness</td>\n",
              "      <td>Козлов Алексей Николаевич ИП</td>\n",
              "      <td>NaN</td>\n",
              "      <td>3921.0</td>\n",
              "      <td>378.0</td>\n",
              "      <td>378.0</td>\n",
              "      <td>378.0</td>\n",
              "      <td>378.000000</td>\n",
              "      <td>...</td>\n",
              "      <td>31.0</td>\n",
              "      <td>31</td>\n",
              "      <td>5</td>\n",
              "      <td>55.0</td>\n",
              "      <td>504.0</td>\n",
              "      <td>1120.0</td>\n",
              "      <td>Бытовая техника/Техника для кухни/Кухонные весы</td>\n",
              "      <td>896.083999</td>\n",
              "      <td>1</td>\n",
              "      <td>True</td>\n",
              "    </tr>\n",
              "    <tr>\n",
              "      <th>17252</th>\n",
              "      <td>Пульсоксиметр</td>\n",
              "      <td>/Красота и здоровье/Медицинские приборы/Пульсо...</td>\n",
              "      <td>FINGER O2XYGEN</td>\n",
              "      <td>Ганин Сергей Владимирович</td>\n",
              "      <td>NaN</td>\n",
              "      <td>1799.0</td>\n",
              "      <td>965.0</td>\n",
              "      <td>965.0</td>\n",
              "      <td>965.0</td>\n",
              "      <td>965.000000</td>\n",
              "      <td>...</td>\n",
              "      <td>30.0</td>\n",
              "      <td>31</td>\n",
              "      <td>4</td>\n",
              "      <td>80.0</td>\n",
              "      <td>965.0</td>\n",
              "      <td>4828.0</td>\n",
              "      <td>Бытовая техника/Красота и здоровье/Медицинские...</td>\n",
              "      <td>1018.662539</td>\n",
              "      <td>1</td>\n",
              "      <td>True</td>\n",
              "    </tr>\n",
              "    <tr>\n",
              "      <th>18690</th>\n",
              "      <td>Контактный гриль Tefal Inicio GC241D38</td>\n",
              "      <td>/Техника для кухни/Приготовление блюд/Грили эл...</td>\n",
              "      <td>Tefal</td>\n",
              "      <td>ВАЙЛДБЕРРИЗ ООО</td>\n",
              "      <td>NaN</td>\n",
              "      <td>1167.0</td>\n",
              "      <td>3995.0</td>\n",
              "      <td>3995.0</td>\n",
              "      <td>3595.0</td>\n",
              "      <td>3730.237886</td>\n",
              "      <td>...</td>\n",
              "      <td>28.0</td>\n",
              "      <td>30</td>\n",
              "      <td>5</td>\n",
              "      <td>50.0</td>\n",
              "      <td>3995.0</td>\n",
              "      <td>7990.0</td>\n",
              "      <td>Бытовая техника/Техника для кухни/Приготовлени...</td>\n",
              "      <td>5666.356098</td>\n",
              "      <td>1</td>\n",
              "      <td>True</td>\n",
              "    </tr>\n",
              "    <tr>\n",
              "      <th>12537</th>\n",
              "      <td>Электрическая зубная щётка ORAL-B Vitality D10...</td>\n",
              "      <td>/Красота и здоровье/Зубные щетки и ирригаторы/...</td>\n",
              "      <td>Oral-B</td>\n",
              "      <td>ВАЙЛДБЕРРИЗ ООО</td>\n",
              "      <td>NaN</td>\n",
              "      <td>759.0</td>\n",
              "      <td>2153.0</td>\n",
              "      <td>2153.0</td>\n",
              "      <td>1722.0</td>\n",
              "      <td>1796.360077</td>\n",
              "      <td>...</td>\n",
              "      <td>16.0</td>\n",
              "      <td>27</td>\n",
              "      <td>5</td>\n",
              "      <td>0.0</td>\n",
              "      <td>2153.0</td>\n",
              "      <td>2153.0</td>\n",
              "      <td>Бытовая техника/Красота и здоровье/Зубные щетк...</td>\n",
              "      <td>2665.404254</td>\n",
              "      <td>1</td>\n",
              "      <td>True</td>\n",
              "    </tr>\n",
              "    <tr>\n",
              "      <th>19743</th>\n",
              "      <td>Машинка против катышек MW-3101</td>\n",
              "      <td>/Техника для дома/Уход за вещами</td>\n",
              "      <td>MAXWELL</td>\n",
              "      <td>ГОЛДЕР-ЭЛЕКТРОНИКС ООО</td>\n",
              "      <td>NaN</td>\n",
              "      <td>1750.0</td>\n",
              "      <td>389.0</td>\n",
              "      <td>528.0</td>\n",
              "      <td>340.0</td>\n",
              "      <td>452.976307</td>\n",
              "      <td>...</td>\n",
              "      <td>20.0</td>\n",
              "      <td>24</td>\n",
              "      <td>5</td>\n",
              "      <td>19.0</td>\n",
              "      <td>486.0</td>\n",
              "      <td>601.0</td>\n",
              "      <td>Бытовая техника/Техника для дома/Уход за вещами</td>\n",
              "      <td>783.445899</td>\n",
              "      <td>1</td>\n",
              "      <td>True</td>\n",
              "    </tr>\n",
              "  </tbody>\n",
              "</table>\n",
              "<p>5 rows × 21 columns</p>\n",
              "</div>\n",
              "      <button class=\"colab-df-convert\" onclick=\"convertToInteractive('df-2a5c942b-523f-44ac-8d8f-aa1c2837ab60')\"\n",
              "              title=\"Convert this dataframe to an interactive table.\"\n",
              "              style=\"display:none;\">\n",
              "        \n",
              "  <svg xmlns=\"http://www.w3.org/2000/svg\" height=\"24px\"viewBox=\"0 0 24 24\"\n",
              "       width=\"24px\">\n",
              "    <path d=\"M0 0h24v24H0V0z\" fill=\"none\"/>\n",
              "    <path d=\"M18.56 5.44l.94 2.06.94-2.06 2.06-.94-2.06-.94-.94-2.06-.94 2.06-2.06.94zm-11 1L8.5 8.5l.94-2.06 2.06-.94-2.06-.94L8.5 2.5l-.94 2.06-2.06.94zm10 10l.94 2.06.94-2.06 2.06-.94-2.06-.94-.94-2.06-.94 2.06-2.06.94z\"/><path d=\"M17.41 7.96l-1.37-1.37c-.4-.4-.92-.59-1.43-.59-.52 0-1.04.2-1.43.59L10.3 9.45l-7.72 7.72c-.78.78-.78 2.05 0 2.83L4 21.41c.39.39.9.59 1.41.59.51 0 1.02-.2 1.41-.59l7.78-7.78 2.81-2.81c.8-.78.8-2.07 0-2.86zM5.41 20L4 18.59l7.72-7.72 1.47 1.35L5.41 20z\"/>\n",
              "  </svg>\n",
              "      </button>\n",
              "      \n",
              "  <style>\n",
              "    .colab-df-container {\n",
              "      display:flex;\n",
              "      flex-wrap:wrap;\n",
              "      gap: 12px;\n",
              "    }\n",
              "\n",
              "    .colab-df-convert {\n",
              "      background-color: #E8F0FE;\n",
              "      border: none;\n",
              "      border-radius: 50%;\n",
              "      cursor: pointer;\n",
              "      display: none;\n",
              "      fill: #1967D2;\n",
              "      height: 32px;\n",
              "      padding: 0 0 0 0;\n",
              "      width: 32px;\n",
              "    }\n",
              "\n",
              "    .colab-df-convert:hover {\n",
              "      background-color: #E2EBFA;\n",
              "      box-shadow: 0px 1px 2px rgba(60, 64, 67, 0.3), 0px 1px 3px 1px rgba(60, 64, 67, 0.15);\n",
              "      fill: #174EA6;\n",
              "    }\n",
              "\n",
              "    [theme=dark] .colab-df-convert {\n",
              "      background-color: #3B4455;\n",
              "      fill: #D2E3FC;\n",
              "    }\n",
              "\n",
              "    [theme=dark] .colab-df-convert:hover {\n",
              "      background-color: #434B5C;\n",
              "      box-shadow: 0px 1px 3px 1px rgba(0, 0, 0, 0.15);\n",
              "      filter: drop-shadow(0px 1px 2px rgba(0, 0, 0, 0.3));\n",
              "      fill: #FFFFFF;\n",
              "    }\n",
              "  </style>\n",
              "\n",
              "      <script>\n",
              "        const buttonEl =\n",
              "          document.querySelector('#df-2a5c942b-523f-44ac-8d8f-aa1c2837ab60 button.colab-df-convert');\n",
              "        buttonEl.style.display =\n",
              "          google.colab.kernel.accessAllowed ? 'block' : 'none';\n",
              "\n",
              "        async function convertToInteractive(key) {\n",
              "          const element = document.querySelector('#df-2a5c942b-523f-44ac-8d8f-aa1c2837ab60');\n",
              "          const dataTable =\n",
              "            await google.colab.kernel.invokeFunction('convertToInteractive',\n",
              "                                                     [key], {});\n",
              "          if (!dataTable) return;\n",
              "\n",
              "          const docLinkHtml = 'Like what you see? Visit the ' +\n",
              "            '<a target=\"_blank\" href=https://colab.research.google.com/notebooks/data_table.ipynb>data table notebook</a>'\n",
              "            + ' to learn more about interactive tables.';\n",
              "          element.innerHTML = '';\n",
              "          dataTable['output_type'] = 'display_data';\n",
              "          await google.colab.output.renderOutput(dataTable, element);\n",
              "          const docLink = document.createElement('div');\n",
              "          docLink.innerHTML = docLinkHtml;\n",
              "          element.appendChild(docLink);\n",
              "        }\n",
              "      </script>\n",
              "    </div>\n",
              "  </div>\n",
              "  "
            ]
          },
          "metadata": {},
          "execution_count": 41
        }
      ]
    },
    {
      "cell_type": "markdown",
      "source": [
        "**Теперь посмотрим на распределение продаж тех, у которых более 100**"
      ],
      "metadata": {
        "id": "1AeyuJSYPwOj"
      }
    },
    {
      "cell_type": "code",
      "source": [
        "sns.distplot(train_data_middle.Sales)"
      ],
      "metadata": {
        "colab": {
          "base_uri": "https://localhost:8080/",
          "height": 351
        },
        "id": "hrBDTdZ6P2T8",
        "outputId": "62e7a09e-7d22-46a1-d9f7-df0da8c96bc3"
      },
      "execution_count": 125,
      "outputs": [
        {
          "output_type": "stream",
          "name": "stderr",
          "text": [
            "/usr/local/lib/python3.8/dist-packages/seaborn/distributions.py:2619: FutureWarning: `distplot` is a deprecated function and will be removed in a future version. Please adapt your code to use either `displot` (a figure-level function with similar flexibility) or `histplot` (an axes-level function for histograms).\n",
            "  warnings.warn(msg, FutureWarning)\n"
          ]
        },
        {
          "output_type": "execute_result",
          "data": {
            "text/plain": [
              "<matplotlib.axes._subplots.AxesSubplot at 0x7fc2adccd970>"
            ]
          },
          "metadata": {},
          "execution_count": 125
        },
        {
          "output_type": "display_data",
          "data": {
            "text/plain": [
              "<Figure size 432x288 with 1 Axes>"
            ],
            "image/png": "[encoded data removed]"
          },
          "metadata": {
            "needs_background": "light"
          }
        }
      ]
    },
    {
      "cell_type": "code",
      "source": [
        "sns.distplot(train_data_more.Sales)"
      ],
      "metadata": {
        "colab": {
          "base_uri": "https://localhost:8080/",
          "height": 351
        },
        "id": "5k4lMpHks6eG",
        "outputId": "d3f07977-bc2b-4398-9c40-313c9e34bf84"
      },
      "execution_count": 126,
      "outputs": [
        {
          "output_type": "stream",
          "name": "stderr",
          "text": [
            "/usr/local/lib/python3.8/dist-packages/seaborn/distributions.py:2619: FutureWarning: `distplot` is a deprecated function and will be removed in a future version. Please adapt your code to use either `displot` (a figure-level function with similar flexibility) or `histplot` (an axes-level function for histograms).\n",
            "  warnings.warn(msg, FutureWarning)\n"
          ]
        },
        {
          "output_type": "execute_result",
          "data": {
            "text/plain": [
              "<matplotlib.axes._subplots.AxesSubplot at 0x7fc2aa8d6ca0>"
            ]
          },
          "metadata": {},
          "execution_count": 126
        },
        {
          "output_type": "display_data",
          "data": {
            "text/plain": [
              "<Figure size 432x288 with 1 Axes>"
            ],
            "image/png": "[encoded data removed]"
          },
          "metadata": {
            "needs_background": "light"
          }
        }
      ]
    },
    {
      "cell_type": "code",
      "source": [
        "# train_data['max_sales'] = np.where((train_data['Sales'] > 6000), 1, 0)\n",
        "# train_data['max_sales'] = (train_data['max_sales']).astype('object')\n",
        "\n",
        "# train_data['max_sales'].value_counts()"
      ],
      "metadata": {
        "colab": {
          "base_uri": "https://localhost:8080/"
        },
        "id": "KF8EDCqIQFZj",
        "outputId": "4176b181-5eae-4358-d241-76da8c9d93d3"
      },
      "execution_count": 43,
      "outputs": [
        {
          "output_type": "execute_result",
          "data": {
            "text/plain": [
              "0    25055\n",
              "1        7\n",
              "Name: max_sales, dtype: int64"
            ]
          },
          "metadata": {},
          "execution_count": 43
        }
      ]
    },
    {
      "cell_type": "code",
      "source": [
        "train_data.info()"
      ],
      "metadata": {
        "colab": {
          "base_uri": "https://localhost:8080/"
        },
        "id": "d8B_EflQ6cG0",
        "outputId": "779f352e-264c-4fd7-e6fc-40382010ead7"
      },
      "execution_count": 44,
      "outputs": [
        {
          "output_type": "stream",
          "name": "stdout",
          "text": [
            "<class 'pandas.core.frame.DataFrame'>\n",
            "RangeIndex: 25062 entries, 0 to 25061\n",
            "Data columns (total 22 columns):\n",
            " #   Column                           Non-Null Count  Dtype  \n",
            "---  ------                           --------------  -----  \n",
            " 0   Name                             25062 non-null  object \n",
            " 1   Category                         25062 non-null  object \n",
            " 2   Brand                            25061 non-null  object \n",
            " 3   Seller                           25031 non-null  object \n",
            " 4   Color                            127 non-null    object \n",
            " 5   Comments                         25062 non-null  float64\n",
            " 6   Final price                      25062 non-null  float64\n",
            " 7   Max price                        25062 non-null  float64\n",
            " 8   Min price                        25062 non-null  float64\n",
            " 9   Average price                    19264 non-null  float64\n",
            " 10  Sales                            25062 non-null  float64\n",
            " 11  Days in stock                    25062 non-null  float64\n",
            " 12  Days with sales                  25062 non-null  int64  \n",
            " 13  Rating                           25062 non-null  int64  \n",
            " 14  Basic Sale                       25062 non-null  float64\n",
            " 15  Basic Sale Price                 25062 non-null  float64\n",
            " 16  Base price                       25062 non-null  float64\n",
            " 17  full_category                    25062 non-null  object \n",
            " 18  Avg_price_per_category           25059 non-null  float64\n",
            " 19  avg_price_not_more_than_evg_cat  25062 non-null  object \n",
            " 20  comments_more_than_avg           25062 non-null  object \n",
            " 21  max_sales                        25062 non-null  object \n",
            "dtypes: float64(11), int64(2), object(9)\n",
            "memory usage: 4.2+ MB\n"
          ]
        }
      ]
    },
    {
      "cell_type": "code",
      "source": [
        "def deleteId(ds):\n",
        "    return ds.drop(columns='Id')\n",
        "\n",
        "def deleteNaN(train_ds, test_ds, critval):\n",
        "    fullsize = train_ds.shape[0]\n",
        "    new_train = train_ds.copy()\n",
        "    new_test = test_ds.copy()\n",
        "    for feature in new_train.columns:\n",
        "        nulls = new_train[feature].isnull().sum()\n",
        "        percent = nulls / fullsize\n",
        "        # если доля пустых значений превышает critval - столбец не информативен,\n",
        "        # можно его выбросить\n",
        "        if (percent > critval):\n",
        "            new_train = new_train.drop(columns=feature)\n",
        "            new_test = new_test.drop(columns=feature)\n",
        "    return new_train, new_test\n",
        "\n",
        "def convertToNumeric(train_ds, test_ds):\n",
        "    new_train = train_ds.copy()\n",
        "    new_test = test_ds.copy()\n",
        "    LE = LabelEncoder()\n",
        "    for feature in new_train.columns:\n",
        "        if (new_train[feature].dtype == 'object'):\n",
        "            new_train[feature] = LE.fit_transform(new_train[feature])\n",
        "            new_test[feature] = LE.fit_transform(new_test[feature])\n",
        "    return new_train, new_test"
      ],
      "metadata": {
        "id": "qT3Bc2LXX4hS"
      },
      "execution_count": 52,
      "outputs": []
    },
    {
      "cell_type": "code",
      "source": [
        "train = train_data.drop_duplicates()\n",
        "\n",
        "# train = train.drop(columns='Id')\n",
        "train = train.drop(columns='Color')\n",
        "train = train.drop(columns='Base price')\n",
        "train = train.drop(columns='Basic Sale Price')\n",
        "\n",
        "test = test_data.drop(columns='Id')\n",
        "test = test.drop(columns='Color')\n",
        "test = test.drop(columns='Base price')\n",
        "test = test.drop(columns='Basic Sale Price')\n",
        "\n",
        "train, test = deleteNaN(train, test, critval=0.8)\n",
        "train, test = convertToNumeric(train, test)\n",
        "\n",
        "train_y = train['Sales'].values\n",
        "train_X = train.drop(columns='Sales').values\n",
        "val_test = test.values\n",
        "\n",
        "train_x, test_x, train_y, test_y = train_test_split(train_X, train_y, test_size=0.1, random_state=7)  # random_state=98987)"
      ],
      "metadata": {
        "id": "DEGDOnVsp4kz"
      },
      "execution_count": 167,
      "outputs": []
    },
    {
      "cell_type": "markdown",
      "source": [
        "#Избавимся от NaN значений\n"
      ],
      "metadata": {
        "id": "DkaGEa8Zp5fd"
      }
    },
    {
      "cell_type": "code",
      "source": [
        "strategies = ['mean', 'median', 'most_frequent']\n",
        "imputer = SimpleImputer(strategy=strategies[2])\n",
        "trainX = imputer.fit_transform(train_x)\n",
        "testX = imputer.fit_transform(test_x)\n",
        "val_test_x = imputer.fit_transform(val_test)"
      ],
      "metadata": {
        "id": "o-JwYRLZq88o"
      },
      "execution_count": 168,
      "outputs": []
    },
    {
      "cell_type": "code",
      "source": [
        "scaler = StandardScaler()\n",
        "trainX = scaler.fit_transform(trainX)\n",
        "testX = scaler.transform(testX)\n",
        "val_test_x = scaler.transform(val_test_x)"
      ],
      "metadata": {
        "id": "MCgRmuVQq_v6"
      },
      "execution_count": 169,
      "outputs": []
    },
    {
      "cell_type": "code",
      "source": [
        "trainX.shape"
      ],
      "metadata": {
        "colab": {
          "base_uri": "https://localhost:8080/"
        },
        "id": "UEmNAxqcrBeV",
        "outputId": "1e516edd-5679-4862-abc7-f7608e94a0cb"
      },
      "execution_count": 170,
      "outputs": [
        {
          "output_type": "execute_result",
          "data": {
            "text/plain": [
              "(20529, 17)"
            ]
          },
          "metadata": {},
          "execution_count": 170
        }
      ]
    },
    {
      "cell_type": "code",
      "source": [
        "val_test.shape"
      ],
      "metadata": {
        "colab": {
          "base_uri": "https://localhost:8080/"
        },
        "id": "y9cg0kNU5HFq",
        "outputId": "61250db2-e02a-41bd-d96c-0ab113d17de4"
      },
      "execution_count": 171,
      "outputs": [
        {
          "output_type": "execute_result",
          "data": {
            "text/plain": [
              "(10741, 17)"
            ]
          },
          "metadata": {},
          "execution_count": 171
        }
      ]
    },
    {
      "cell_type": "markdown",
      "source": [
        "#Метрика **SMAPE**"
      ],
      "metadata": {
        "id": "_B6VcRZ4sDQQ"
      }
    },
    {
      "cell_type": "code",
      "source": [
        "def smape(A, F):\n",
        "    with np.errstate(divide='ignore', invalid='ignore'):\n",
        "        tmp = 2 * np.abs(F-A) / (np.abs(A) + np.abs(F))\n",
        "    tmp[np.isnan(tmp)] = 0\n",
        "    return np.sum(tmp) / len(tmp) * 100"
      ],
      "metadata": {
        "id": "iNj1FN7QsLYG"
      },
      "execution_count": 58,
      "outputs": []
    },
    {
      "cell_type": "code",
      "source": [
        "def check_error(preds, gt):\n",
        "    print('SMAPE Error:', smape(np.round(preds), gt))\n",
        "    # print('RMSE Error:', mean_squared_error(np.round((np.abs(preds))), gt, squared=False))"
      ],
      "metadata": {
        "id": "r4i67YSlsKKP"
      },
      "execution_count": 59,
      "outputs": []
    },
    {
      "cell_type": "markdown",
      "source": [
        "#Random Forest"
      ],
      "metadata": {
        "id": "39MSCs_5r87I"
      }
    },
    {
      "cell_type": "code",
      "source": [
        "parameters = {\n",
        "    'criterion':(['absolute_error']), \n",
        "    'max_depth':  [100, 500, 100],\n",
        "    'n_estimators': [40, 50, 60, 55],\n",
        "    'min_samples_leaf': [3, 4, 5],\n",
        "    'min_samples_split': range(10, 71, 20)}\n",
        "\n",
        "model = RandomForestRegressor()\n",
        "rf_gs_model = GridSearchCV(model, parameters)\n",
        "rf_gs_model.fit(trainX[:300], train_y[:300])\n",
        "print(f\"Best parameters: {rf_gs_model.best_params_}\")"
      ],
      "metadata": {
        "id": "00-ygxl1r-YN"
      },
      "execution_count": null,
      "outputs": []
    },
    {
      "cell_type": "code",
      "source": [
        "last_rf_best_params = {\n",
        "    'criterion': 'absolute_error', \n",
        "    'max_depth': 1000,  # 300\n",
        "    'n_estimators': 50, # 70\n",
        "    'min_samples_leaf': 4, # 3\n",
        "    'min_samples_split': 3 # 50\n",
        "}\n",
        "\n",
        "# random_forest = RandomForestRegressor(**rf_gs_model.best_params_)\n",
        "random_forest = RandomForestRegressor(**last_rf_best_params) \n",
        "random_forest.fit(trainX, train_y)\n",
        "check_error(random_forest.predict(testX), test_y)"
      ],
      "metadata": {
        "id": "kKD60gjDsiL7",
        "colab": {
          "base_uri": "https://localhost:8080/"
        },
        "outputId": "fbeb9189-ae4a-4058-cdfb-69c4d612fa68"
      },
      "execution_count": 212,
      "outputs": [
        {
          "output_type": "stream",
          "name": "stdout",
          "text": [
            "SMAPE Error: 17.694568654021733\n"
          ]
        }
      ]
    },
    {
      "cell_type": "code",
      "source": [
        "check_error(random_forest.predict(testX), test_y)\n",
        "print(random_forest.predict(testX))"
      ],
      "metadata": {
        "id": "Xwk1vJQPw18e",
        "colab": {
          "base_uri": "https://localhost:8080/"
        },
        "outputId": "6758f082-09bb-4324-b100-78b4b168d12b"
      },
      "execution_count": 177,
      "outputs": [
        {
          "output_type": "stream",
          "name": "stdout",
          "text": [
            "SMAPE Error: 16.74329116765592\n",
            "[4.38571429 1.40714286 8.38571429 ... 0.         6.26428571 1.05714286]\n"
          ]
        }
      ]
    },
    {
      "cell_type": "markdown",
      "source": [
        "#XGBoost"
      ],
      "metadata": {
        "id": "_GfmGNeZmKyv"
      }
    },
    {
      "cell_type": "code",
      "source": [
        "parameters = {\n",
        "    \"learning_rate\": [0.1, 0.01, 0.075, 0.015],\n",
        "    \"max_depth\": [3, 4, 10, 100],\n",
        "    \"min_child_weight\": [3, 5, 7, 10],\n",
        "    # \"n_estimators\": range(10, 51, 10),\n",
        "    \"subsample\": [0.6, 0.7, 0.8, 0.9, 1.],\n",
        "    \"gamma\": [0.5, 0.7, 0.3, 1.],\n",
        "    \"reg_lambda\": [0.6, 0.7, 0.9, 1.0],\n",
        "    'colsample_bytree': [0.6, 0.7, 0.8, 0.9, 1.]\n",
        "}\n",
        "\n",
        "model = XGBRegressor(objective='reg:squarederror')\n",
        "xgb_gs_model = GridSearchCV(model, parameters)\n",
        "xgb_gs_model.fit(trainX, train_y)\n",
        "print(f\"Best parameters: {xgb_gs_model.best_params_}\")\n",
        "\n",
        "# gridcv_xgb = xgb_gs_model.best_estimator_\n",
        "# check_error(np.round(gridcv_xgb.predict(testX)), test_y)"
      ],
      "metadata": {
        "id": "T7BHm5hwmJoR"
      },
      "execution_count": null,
      "outputs": []
    },
    {
      "cell_type": "code",
      "source": [
        "last_xgb_best_params = {\n",
        "    \"learning_rate\": 0.15,\n",
        "    \"max_depth\": 3,\n",
        "    \"min_child_weight\": 4,\n",
        "    \"n_estimators\": 50, \n",
        "    \"subsample\": 0.9,\n",
        "    \"booster\": 'gbtree',\n",
        "    \"reg_lambda\": 1.,\n",
        "    \"gamma\": 0.5,\n",
        "    'colsample_bytree': 0.9\n",
        "}\n",
        "xgb_reg = XGBRegressor(**last_xgb_best_params) \n",
        "# xgb_reg = XGBRegressor(**xgb_gs_model.best_params_)\n",
        "xgb_reg.fit(trainX, train_y)\n",
        "check_error(np.round(xgb_reg.predict(testX)), test_y)\n"
      ],
      "metadata": {
        "colab": {
          "base_uri": "https://localhost:8080/"
        },
        "id": "QkavW-I_mPbj",
        "outputId": "eef6caf1-07ce-408c-94df-7777b9ec7353"
      },
      "execution_count": 184,
      "outputs": [
        {
          "output_type": "stream",
          "name": "stdout",
          "text": [
            "[11:49:59] WARNING: /workspace/src/objective/regression_obj.cu:152: reg:linear is now deprecated in favor of reg:squarederror.\n",
            "SMAPE Error: 40.217140768618584\n"
          ]
        }
      ]
    },
    {
      "cell_type": "markdown",
      "source": [
        "#Модель комбинированная"
      ],
      "metadata": {
        "id": "NbrVYmMIRrX8"
      }
    },
    {
      "cell_type": "markdown",
      "source": [
        "**подготовка данных**"
      ],
      "metadata": {
        "id": "9Rw_wSHSR2Xc"
      }
    },
    {
      "cell_type": "code",
      "source": [
        "train = train_data.drop_duplicates()\n",
        "\n",
        "# train = train.drop(columns='Id')\n",
        "train = train.drop(columns='Color')\n",
        "train = train.drop(columns='Base price')\n",
        "train = train.drop(columns='Basic Sale Price')\n",
        "\n",
        "test = test_data.drop(columns='Id')\n",
        "test = test.drop(columns='Color')\n",
        "test = test.drop(columns='Base price')\n",
        "test = test.drop(columns='Basic Sale Price')\n",
        "\n",
        "train, test = deleteNaN(train, test, critval=0.8)\n",
        "train, test = convertToNumeric(train, test)  # а в какой тип даннных превращатся категориальные? \n",
        "\n",
        "train_data_less = train[train_data['Sales'] < 100.0]\n",
        "_train_data = train[(train_data['Sales'] >= 100.0)]\n",
        "train_data_middle = _train_data[_train_data['Sales'] < 1000.0]\n",
        "train_data_more = _train_data[_train_data['Sales'] >= 1000.0]\n",
        "\n",
        "train0_y = train_data_less['Sales'].values\n",
        "train0_X = train_data_less.drop(columns='Sales').values\n",
        "train1_y = train_data_middle['Sales'].values\n",
        "train1_X = train_data_middle.drop(columns='Sales').values\n",
        "train2_y = train_data_more['Sales'].values\n",
        "train2_X = train_data_more.drop(columns='Sales').values\n",
        "train_y = train['Sales'].values\n",
        "train_X = train.drop(columns='Sales').values\n",
        "val_test = test.values\n",
        "\n",
        "train_x, test_x, train_y, test_y = train_test_split(train_X, train_y, test_size=0.1, random_state=7)  # random_state=98987)\n",
        "train0_x, test0_x, train0_y, test0_y = train_test_split(train0_X, train0_y, test_size=0.1, random_state=7)\n",
        "train1_x, test1_x, train1_y, test1_y = train_test_split(train1_X, train1_y, test_size=0.1, random_state=7)\n",
        "train2_x, test2_x, train2_y, test2_y = train_test_split(train2_X, train2_y, test_size=0.1, random_state=7)"
      ],
      "metadata": {
        "colab": {
          "base_uri": "https://localhost:8080/"
        },
        "id": "5Uj5Pfz9R5IC",
        "outputId": "da12465f-4814-4838-faff-d0600bb55253"
      },
      "execution_count": 129,
      "outputs": [
        {
          "output_type": "stream",
          "name": "stderr",
          "text": [
            "<ipython-input-129-2abf1adc6062>:16: UserWarning: Boolean Series key will be reindexed to match DataFrame index.\n",
            "  train_data_less = train[train_data['Sales'] < 100.0]\n",
            "<ipython-input-129-2abf1adc6062>:17: UserWarning: Boolean Series key will be reindexed to match DataFrame index.\n",
            "  _train_data = train[(train_data['Sales'] >= 100.0)]\n"
          ]
        }
      ]
    },
    {
      "cell_type": "code",
      "source": [
        "strategies = ['mean', 'median', 'most_frequent']\n",
        "imputer = SimpleImputer(strategy=strategies[2])\n",
        "train0X = imputer.fit_transform(train0_x)\n",
        "test0X = imputer.fit_transform(test0_x)\n",
        "imputer = SimpleImputer(strategy=strategies[2])\n",
        "train1X = imputer.fit_transform(train1_x)\n",
        "test1X = imputer.fit_transform(test1_x)\n",
        "imputer = SimpleImputer(strategy=strategies[2])\n",
        "train2X = imputer.fit_transform(train2_x)\n",
        "test2X = imputer.fit_transform(test2_x)\n",
        "imputer = SimpleImputer(strategy=strategies[2])\n",
        "trainX = imputer.fit_transform(train_x)\n",
        "testX = imputer.fit_transform(test_x)\n",
        "val_test_x = imputer.fit_transform(val_test)\n",
        "\n",
        "scaler = StandardScaler()\n",
        "train0X = scaler.fit_transform(train0X)\n",
        "test0X = scaler.transform(test0X)\n",
        "scaler = StandardScaler()\n",
        "train1X = scaler.fit_transform(train1X)\n",
        "test1X = scaler.transform(test1X)\n",
        "scaler = StandardScaler()\n",
        "train2X = scaler.fit_transform(train2X)\n",
        "test2X = scaler.transform(test2X)\n",
        "scaler = StandardScaler()\n",
        "trainX = scaler.fit_transform(trainX)\n",
        "testX = scaler.transform(testX)\n",
        "val_test_x = scaler.transform(val_test_x)"
      ],
      "metadata": {
        "id": "eo8rurM9SyJF"
      },
      "execution_count": 130,
      "outputs": []
    },
    {
      "cell_type": "markdown",
      "source": [
        "**меньше 100**"
      ],
      "metadata": {
        "id": "3BE8_JhHt-x-"
      }
    },
    {
      "cell_type": "code",
      "source": [
        "parameters = {\n",
        "    'criterion':(['absolute_error']), \n",
        "    'max_depth':  [70, 100, 300, 1000],\n",
        "    'n_estimators': [50, 60, 70, 100],\n",
        "    'min_samples_leaf': [3, 4, 5],\n",
        "    'min_samples_split': [3, 5, 10, 50]}\n",
        "\n",
        "model = RandomForestRegressor()\n",
        "rf_gs_model = GridSearchCV(model, parameters)\n",
        "rf_gs_model.fit(train0X[:300], train0_y[:300])\n",
        "print(f\"Best parameters: {rf_gs_model.best_params_}\")"
      ],
      "metadata": {
        "colab": {
          "base_uri": "https://localhost:8080/"
        },
        "id": "QEbaFC4l1PcY",
        "outputId": "0d48bca2-93b6-407d-8ff6-4fdaf52b8de0"
      },
      "execution_count": 61,
      "outputs": [
        {
          "output_type": "stream",
          "name": "stdout",
          "text": [
            "Best parameters: {'criterion': 'absolute_error', 'max_depth': 300, 'min_samples_leaf': 5, 'min_samples_split': 3, 'n_estimators': 70}\n"
          ]
        }
      ]
    },
    {
      "cell_type": "code",
      "source": [
        "last_rf_best_params = {\n",
        "    'criterion': 'absolute_error', \n",
        "    'max_depth': 300,  # 300\n",
        "    'n_estimators': 70, # 70\n",
        "    'min_samples_leaf': 5, # 3\n",
        "    'min_samples_split': 3 # 50\n",
        "}\n",
        "\n",
        "# random_forest = RandomForestRegressor(**rf_gs_model.best_params_)\n",
        "rf0 = RandomForestRegressor(**last_rf_best_params) \n",
        "rf0.fit(train0X, train0_y)\n",
        "check_error(rf0.predict(test0X), test0_y)"
      ],
      "metadata": {
        "colab": {
          "base_uri": "https://localhost:8080/"
        },
        "id": "_wbovfRZRwBR",
        "outputId": "c53ecfc5-480e-4402-a0c5-ae8f2c51fc36"
      },
      "execution_count": 62,
      "outputs": [
        {
          "output_type": "stream",
          "name": "stdout",
          "text": [
            "SMAPE Error: 17.206817495943717\n"
          ]
        }
      ]
    },
    {
      "cell_type": "markdown",
      "source": [
        "**от 100 до 1000**"
      ],
      "metadata": {
        "id": "hnEIe_PsuB_P"
      }
    },
    {
      "cell_type": "code",
      "source": [
        "train1X.shape"
      ],
      "metadata": {
        "colab": {
          "base_uri": "https://localhost:8080/"
        },
        "id": "0W97RO5PzGw0",
        "outputId": "6899f43f-21a5-4133-89ec-85d048748d79"
      },
      "execution_count": 135,
      "outputs": [
        {
          "output_type": "execute_result",
          "data": {
            "text/plain": [
              "(1424, 17)"
            ]
          },
          "metadata": {},
          "execution_count": 135
        }
      ]
    },
    {
      "cell_type": "code",
      "source": [
        "last_rf_best_params = {\n",
        "    'criterion': 'absolute_error', \n",
        "    'max_depth': 1000,  # 300\n",
        "    'n_estimators': 30, # 70\n",
        "    'min_samples_leaf': 5, # 3\n",
        "    'min_samples_split': 2 # 1\n",
        "}\n",
        "\n",
        "# random_forest = RandomForestRegressor(**rf_gs_model.best_params_)\n",
        "rf1 = RandomForestRegressor(**last_rf_best_params) \n",
        "rf1.fit(train1X, train1_y)\n",
        "check_error(rf1.predict(test1X), test1_y)"
      ],
      "metadata": {
        "colab": {
          "base_uri": "https://localhost:8080/"
        },
        "id": "_0r46C8nt9Iz",
        "outputId": "3b71381b-559d-4507-eab8-cd66ab8bbb99"
      },
      "execution_count": 208,
      "outputs": [
        {
          "output_type": "stream",
          "name": "stdout",
          "text": [
            "SMAPE Error: 34.76378231285994\n"
          ]
        }
      ]
    },
    {
      "cell_type": "code",
      "source": [
        "last_rf_best_params = {\n",
        "    'criterion': 'absolute_error', \n",
        "    'max_depth': 700,  # 300\n",
        "    'n_estimators': 35, # 70\n",
        "    'min_samples_leaf': 5, # 3\n",
        "    'min_samples_split': 2 # 1\n",
        "}\n",
        "\n",
        "# random_forest = RandomForestRegressor(**rf_gs_model.best_params_)\n",
        "rf11 = RandomForestRegressor(**last_rf_best_params) \n",
        "rf11.fit(train1X, train1_y)\n",
        "check_error(rf1.predict(test1X), test1_y)"
      ],
      "metadata": {
        "colab": {
          "base_uri": "https://localhost:8080/"
        },
        "id": "Z4qDfQ8b18R9",
        "outputId": "87b7a6c2-d648-4ea9-de78-4bbecb2f046e"
      },
      "execution_count": 210,
      "outputs": [
        {
          "output_type": "stream",
          "name": "stdout",
          "text": [
            "SMAPE Error: 34.76378231285994\n"
          ]
        }
      ]
    },
    {
      "cell_type": "markdown",
      "source": [
        "**более 1000**"
      ],
      "metadata": {
        "id": "8dWh2hiAuJ15"
      }
    },
    {
      "cell_type": "code",
      "source": [
        "parameters = {\n",
        "    'criterion':(['absolute_error']), \n",
        "    'max_depth':  [70, 100, 300, 1000],\n",
        "    'n_estimators': [50, 60, 70, 100],\n",
        "    'min_samples_leaf': [3, 4, 5],\n",
        "    'min_samples_split': [3, 5, 10, 50]}\n",
        "\n",
        "model = RandomForestRegressor()\n",
        "rf_gs_model = GridSearchCV(model, parameters)\n",
        "rf_gs_model.fit(train2X[:300], train2_y[:300])\n",
        "print(f\"Best parameters: {rf_gs_model.best_params_}\")"
      ],
      "metadata": {
        "colab": {
          "base_uri": "https://localhost:8080/"
        },
        "id": "9zaV3ggs6EHS",
        "outputId": "68927791-da7b-4e35-e338-4b1fbecdb309"
      },
      "execution_count": 63,
      "outputs": [
        {
          "output_type": "stream",
          "name": "stdout",
          "text": [
            "Best parameters: {'criterion': 'absolute_error', 'max_depth': 300, 'min_samples_leaf': 3, 'min_samples_split': 3, 'n_estimators': 70}\n"
          ]
        }
      ]
    },
    {
      "cell_type": "code",
      "source": [
        "train2X.shape"
      ],
      "metadata": {
        "colab": {
          "base_uri": "https://localhost:8080/"
        },
        "id": "8nDxWfqsz2Pe",
        "outputId": "c64b694b-bdab-4a09-aab3-cd9c328a64ec"
      },
      "execution_count": 146,
      "outputs": [
        {
          "output_type": "execute_result",
          "data": {
            "text/plain": [
              "(131, 17)"
            ]
          },
          "metadata": {},
          "execution_count": 146
        }
      ]
    },
    {
      "cell_type": "code",
      "source": [
        "last_rf_best_params = {\n",
        "    'criterion': 'absolute_error', \n",
        "    'max_depth': 3,  # 300\n",
        "    'n_estimators': 10, # 70\n",
        "    'min_samples_leaf': 3, # 3\n",
        "    'min_samples_split': 2 # 50\n",
        "}\n",
        "\n",
        "# random_forest = RandomForestRegressor(**rf_gs_model.best_params_)\n",
        "rf2 = RandomForestRegressor(**last_rf_best_params) \n",
        "rf2.fit(train2X, train2_y)\n",
        "check_error(rf2.predict(test2X), test2_y)"
      ],
      "metadata": {
        "colab": {
          "base_uri": "https://localhost:8080/"
        },
        "id": "L4ITUblqRqio",
        "outputId": "5a63e582-16ea-4d55-c9ea-15bfa894a1f6"
      },
      "execution_count": 155,
      "outputs": [
        {
          "output_type": "stream",
          "name": "stdout",
          "text": [
            "SMAPE Error: 49.70169679960313\n"
          ]
        }
      ]
    },
    {
      "cell_type": "code",
      "source": [
        "last_xgb_best_params = {\n",
        "    \"learning_rate\": 0.15,\n",
        "    \"max_depth\": 5,\n",
        "    \"min_child_weight\": 10,\n",
        "    \"n_estimators\": 25, \n",
        "    \"subsample\": 0.9,\n",
        "    \"booster\": 'gbtree',\n",
        "    \"reg_lambda\": 1.,\n",
        "    \"gamma\": 0.1,\n",
        "    'colsample_bytree': 1.\n",
        "}\n",
        "xgb_reg = XGBRegressor(**last_xgb_best_params) \n",
        "# xgb_reg = XGBRegressor(**xgb_gs_model.best_params_)\n",
        "xgb_reg.fit(train2X, train2_y)\n",
        "check_error(np.round(xgb_reg.predict(test2X)), test2_y)"
      ],
      "metadata": {
        "colab": {
          "base_uri": "https://localhost:8080/"
        },
        "id": "GCS2D939dOcA",
        "outputId": "14fa7fa1-d06d-468a-d052-d882bc8652dd"
      },
      "execution_count": 203,
      "outputs": [
        {
          "output_type": "stream",
          "name": "stdout",
          "text": [
            "[11:57:08] WARNING: /workspace/src/objective/regression_obj.cu:152: reg:linear is now deprecated in favor of reg:squarederror.\n",
            "SMAPE Error: 39.461455265582885\n"
          ]
        }
      ]
    },
    {
      "cell_type": "markdown",
      "source": [
        "**теперь нужен мета алгоритм**"
      ],
      "metadata": {
        "id": "y0BdamznLuAE"
      }
    },
    {
      "cell_type": "code",
      "source": [
        "trainX.shape"
      ],
      "metadata": {
        "colab": {
          "base_uri": "https://localhost:8080/"
        },
        "id": "hxf9pW6CLo9N",
        "outputId": "aae1745f-0982-4610-a95c-5b41d0cb76b7"
      },
      "execution_count": 211,
      "outputs": [
        {
          "output_type": "execute_result",
          "data": {
            "text/plain": [
              "(22086, 17)"
            ]
          },
          "metadata": {},
          "execution_count": 211
        }
      ]
    },
    {
      "cell_type": "code",
      "source": [
        "predictions0 = np.round(rf0.predict(trainX))\n",
        "predictions1 = np.round(rf11.predict(trainX))\n",
        "predictions2 = np.round(xgb_reg.predict(trainX))\n",
        "# predictions0.shape\n",
        "train_samples = trainX\n",
        "train_samples = np.insert(train_samples, 0, predictions0, axis=1)\n",
        "train_samples = np.insert(train_samples, 0, predictions1, axis=1)\n",
        "train_samples = np.insert(train_samples, 0, predictions2, axis=1)\n",
        "train_samples.shape"
      ],
      "metadata": {
        "colab": {
          "base_uri": "https://localhost:8080/"
        },
        "id": "qOwsGZsLLsMj",
        "outputId": "5ec7769c-5b2b-4f96-97ec-b1ce961c2945"
      },
      "execution_count": 212,
      "outputs": [
        {
          "output_type": "execute_result",
          "data": {
            "text/plain": [
              "(22086, 20)"
            ]
          },
          "metadata": {},
          "execution_count": 212
        }
      ]
    },
    {
      "cell_type": "code",
      "source": [
        "predictions0 = np.round(rf0.predict(testX))\n",
        "predictions1 = np.round(rf11.predict(testX))\n",
        "predictions2 = np.round(xgb_reg.predict(testX))\n",
        "# predictions0.shape\n",
        "test_samples = testX\n",
        "test_samples = np.insert(test_samples, 0, predictions0, axis=1)\n",
        "test_samples = np.insert(test_samples, 0, predictions1, axis=1)\n",
        "test_samples = np.insert(test_samples, 0, predictions2, axis=1)\n",
        "test_samples.shape"
      ],
      "metadata": {
        "colab": {
          "base_uri": "https://localhost:8080/"
        },
        "id": "41cH6xlZNbPe",
        "outputId": "230150dd-f9fc-417e-befe-87da882e6bad"
      },
      "execution_count": 213,
      "outputs": [
        {
          "output_type": "execute_result",
          "data": {
            "text/plain": [
              "(2454, 20)"
            ]
          },
          "metadata": {},
          "execution_count": 213
        }
      ]
    },
    {
      "cell_type": "code",
      "source": [
        "scaler = StandardScaler()\n",
        "train_samples = scaler.fit_transform(train_samples)\n",
        "test_samples = scaler.transform(test_samples)"
      ],
      "metadata": {
        "id": "OfcB1joROE8u"
      },
      "execution_count": 214,
      "outputs": []
    },
    {
      "cell_type": "code",
      "source": [
        "last_rf_best_params = {\n",
        "    'criterion': 'absolute_error', \n",
        "    'max_depth': 70,  # 300\n",
        "    'n_estimators': 70, # 70\n",
        "    'min_samples_leaf': 5, # 3\n",
        "    'min_samples_split': 3 # 50\n",
        "}\n",
        "\n",
        "# random_forest = RandomForestRegressor(**rf_gs_model.best_params_)\n",
        "random_forest = RandomForestRegressor(**last_rf_best_params) \n",
        "random_forest.fit(train_samples, train_y)\n",
        "check_error(random_forest.predict(test_samples), test_y)"
      ],
      "metadata": {
        "colab": {
          "base_uri": "https://localhost:8080/"
        },
        "id": "vgyHxOj4K_wl",
        "outputId": "fdb83723-923d-431c-f5b6-d82312b01fb5"
      },
      "execution_count": 215,
      "outputs": [
        {
          "output_type": "stream",
          "name": "stdout",
          "text": [
            "SMAPE Error: 21.08810717825116\n"
          ]
        }
      ]
    },
    {
      "cell_type": "markdown",
      "source": [
        "#Соревы"
      ],
      "metadata": {
        "id": "RTSASGWvRUCv"
      }
    },
    {
      "cell_type": "code",
      "source": [
        "submission_path = '/content/drive/MyDrive/Colab Notebooks/ML 4 course/nsu_sample_solution.csv'\n",
        "submission = pd.read_csv(submission_path)"
      ],
      "metadata": {
        "id": "Y55nrbHTRhSX"
      },
      "execution_count": 92,
      "outputs": []
    },
    {
      "cell_type": "code",
      "source": [
        "predictions0 = np.round(rf0.predict(val_test_x))\n",
        "predictions1 = np.round(rf11.predict(val_test_x))\n",
        "predictions2 = np.round(xgb_reg.predict(val_test_x))\n",
        "# predictions0.shape\n",
        "val_samples = val_test_x\n",
        "val_samples = np.insert(val_samples, 0, predictions0, axis=1)\n",
        "val_samples = np.insert(val_samples, 0, predictions1, axis=1)\n",
        "val_samples = np.insert(val_samples, 0, predictions2, axis=1)\n",
        "val_samples.shape\n",
        "scaler = StandardScaler()\n",
        "val_samples = scaler.fit_transform(val_samples)"
      ],
      "metadata": {
        "id": "5UNiSybVY8hD"
      },
      "execution_count": 216,
      "outputs": []
    },
    {
      "cell_type": "code",
      "source": [
        "predictions = np.round(random_forest.predict(val_samples))\n",
        "submission['Expected'] = predictions\n",
        "submission\n",
        "submission.to_csv('submission_rf.csv', index=False)"
      ],
      "metadata": {
        "id": "8wz3eL_JSOyL"
      },
      "execution_count": 217,
      "outputs": []
    },
    {
      "cell_type": "code",
      "source": [
        "predictions = np.round(xgb_reg.predict(val_test_x))\n",
        "submission['Expected'] = predictions\n",
        "submission\n",
        "submission.to_csv('submission_xgboost.csv', index=False)"
      ],
      "metadata": {
        "id": "25rH9rrg9a8H"
      },
      "execution_count": 86,
      "outputs": []
    }
  ]
}