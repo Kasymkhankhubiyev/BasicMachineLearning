{
  "nbformat": 4,
  "nbformat_minor": 0,
  "metadata": {
    "colab": {
      "provenance": [],
      "collapsed_sections": []
    },
    "kernelspec": {
      "name": "python3",
      "display_name": "Python 3"
    },
    "language_info": {
      "name": "python"
    }
  },
  "cells": [
    {
      "cell_type": "code",
      "execution_count": null,
      "metadata": {
        "id": "341j6IfkpgX7"
      },
      "outputs": [],
      "source": [
        "import matplotlib.pyplot as plt\n",
        "from sklearn.linear_model import LogisticRegression\n",
        "from sklearn.metrics import confusion_matrix\n",
        "import seaborn as sns\n",
        "import numpy  as np\n",
        "import pandas as pd\n",
        "from typing import NamedTuple"
      ]
    },
    {
      "cell_type": "markdown",
      "source": [
        "#Площадь под кривой с известными точками"
      ],
      "metadata": {
        "id": "FKrJ20Mxr-B0"
      }
    },
    {
      "cell_type": "code",
      "source": [
        "def area_under_curve(x_arr, y_arr) -> float:\n",
        "\n",
        "  area = 0\n",
        "\n",
        "  for i in range(len(x_arr) - 1):\n",
        "    area += np.abs((y_arr[i] + y_arr[i+1])*(x_arr[i+1] - x_arr[i])/2.)\n",
        "\n",
        "  return area    \n"
      ],
      "metadata": {
        "id": "UvE1m-v0sDt7"
      },
      "execution_count": null,
      "outputs": []
    },
    {
      "cell_type": "markdown",
      "source": [
        "#ROC-кривая"
      ],
      "metadata": {
        "id": "PT38SwnhrxQy"
      }
    },
    {
      "cell_type": "code",
      "source": [
        "class Confusions(NamedTuple):\n",
        "  fp: int\n",
        "  tp: int\n",
        "  tn: int\n",
        "  fn: int"
      ],
      "metadata": {
        "id": "NzPFqWRL2g73"
      },
      "execution_count": null,
      "outputs": []
    },
    {
      "cell_type": "code",
      "source": [
        "def _classify(predictions: float, treshold: float) -> list:\n",
        "\n",
        "  prediction = []\n",
        "\n",
        "  for i in range(len(predictions)):\n",
        "    if predictions[i] < treshold:\n",
        "      prediction.append(0)\n",
        "    else:\n",
        "      prediction.append(1)\n",
        "\n",
        "  return prediction"
      ],
      "metadata": {
        "id": "xXbQX7ZtrwbB"
      },
      "execution_count": null,
      "outputs": []
    },
    {
      "cell_type": "code",
      "source": [
        "def _get_confusions(predictions, y_test) -> Confusions:\n",
        "  \n",
        "  tp, fp, tn, fn = 0, 0, 0, 0\n",
        "\n",
        "  # print(predictions)\n",
        "  # print(y_test)\n",
        "\n",
        "  for i in range(len(y_test)):\n",
        "    if y_test[i] == 1 and predictions[i] == 1:\n",
        "      tp += 1\n",
        "    elif y_test[i] == 0 and predictions[i] == 1:\n",
        "      fp += 1\n",
        "    elif y_test[i] == 1 and predictions[i] == 0:\n",
        "      fn += 1\n",
        "    elif y_test[i] == 0 and predictions[i] == 0:\n",
        "      tn += 1\n",
        "\n",
        "  return Confusions(fp=fp, tp=tp, fn=fn, tn=tn)"
      ],
      "metadata": {
        "id": "x6CvbzF5zBXb"
      },
      "execution_count": null,
      "outputs": []
    },
    {
      "cell_type": "code",
      "source": [
        "def _get_tpr_fpr(predictions: np.array, y_test: np.array):\n",
        "\n",
        "  #получаем кол-во правильных и ложных значений\n",
        "  confusions = _get_confusions(predictions, y_test)\n",
        "  # print(confusions)\n",
        "\n",
        "  tpr = float(confusions.tp)/float(confusions.tp + confusions.fn)\n",
        "\n",
        "  fpr = float(confusions.fp)/float(confusions.fp + confusions.tn)\n",
        "\n",
        "\n",
        "  return tpr, fpr"
      ],
      "metadata": {
        "id": "d_52egQv1161"
      },
      "execution_count": null,
      "outputs": []
    },
    {
      "cell_type": "code",
      "source": [
        "def _draw_curve(x_arr, y_arr, name) -> None:\n",
        "  plt.plot(x_arr, y_arr, label='ROC', color='red')\n",
        "  plt.title(name)\n",
        "  plt.legend('best')\n",
        "  plt.show()"
      ],
      "metadata": {
        "id": "XE4_bwy57How"
      },
      "execution_count": null,
      "outputs": []
    },
    {
      "cell_type": "markdown",
      "source": [
        "\\\n",
        "$TPR=\\frac{TP}{TP+FN}$\n",
        "\n",
        "$FPR=\\frac{FP}{FP+TN}$"
      ],
      "metadata": {
        "id": "7zWZL8P-vXKG"
      }
    },
    {
      "cell_type": "code",
      "source": [
        "def roc_curve(x_test: np.array, y_test: np.array, model, n: int) -> None:\n",
        "\n",
        "  tprs, fprs = [], []\n",
        "\n",
        "  #получаем пороги\n",
        "  treshold = np.linspace(0., 1., n)  \n",
        "  # print(treshold)\n",
        "\n",
        "  #возращает массив вероятностей приналежности для каждого класса\n",
        "  predictions = model.predict_proba(x_test)[:,1]\n",
        "\n",
        "  for i in range(n):\n",
        "    # print(treshold[i])\n",
        "    prediction = _classify(predictions, treshold=treshold[i])\n",
        "    tpr, fpr = _get_tpr_fpr(prediction, y_test)\n",
        "    tprs.append(tpr)\n",
        "    fprs.append(fpr)\n",
        "\n",
        "  _draw_curve(x_arr=fprs, y_arr=tprs, name='ROC-curve')\n",
        "\n",
        "  area = area_under_curve(x_arr=fprs, y_arr=tprs)\n",
        "  print(f'Площадь под кривой равна:    {area}')"
      ],
      "metadata": {
        "id": "YgfPO3PlrgTb"
      },
      "execution_count": null,
      "outputs": []
    },
    {
      "cell_type": "markdown",
      "source": [
        "#PR - кривая (Precision Recall)"
      ],
      "metadata": {
        "id": "3jlhHjDP8Mwx"
      }
    },
    {
      "cell_type": "markdown",
      "source": [
        "\\\n",
        "$recall = \\frac{TP}{TP + FN}$ \n",
        "\n",
        "$precision= \\frac{TP}{TP+FP}$"
      ],
      "metadata": {
        "id": "hLMHR-uKjRZ-"
      }
    },
    {
      "cell_type": "code",
      "source": [
        "def _calc_recall_precision(predictions: np.array, y_test: np.array) -> list:\n",
        "\n",
        "  #получаем кол-во правильных и ложных значений\n",
        "  confusions = _get_confusions(predictions, y_test)\n",
        "\n",
        "  recall = float(confusions.tp)/float(confusions.tp + confusions.fn)\n",
        "\n",
        "  if(confusions.tp + confusions.fp) == 0:\n",
        "    \n",
        "    precision = 1\n",
        "  else:\n",
        "    precision = float(confusions.tp)/float(confusions.tp + confusions.fp)\n",
        "\n",
        "  return recall, precision"
      ],
      "metadata": {
        "id": "SDwxAfbdoGRK"
      },
      "execution_count": null,
      "outputs": []
    },
    {
      "cell_type": "code",
      "source": [
        "def pr_curve(x_test: np.array, y_test: np.array, model, n:int)->None:\n",
        "  recalls, precisions = [], []\n",
        "\n",
        "  #получаем пороги\n",
        "  treshold = np.linspace(0., 1., n)\n",
        "\n",
        "  #возращает массив вероятностей приналежности для каждого класса\n",
        "  predictions = model.predict_proba(x_test)[:,1]\n",
        "\n",
        "  for i in range(n):\n",
        "    prediction = _classify(predictions, treshold=treshold[i])\n",
        "    recall, precision = _calc_recall_precision(prediction, y_test)\n",
        "    recalls.append(recall)\n",
        "    precisions.append(precision)\n",
        "\n",
        "  _draw_curve(x_arr = recalls, y_arr = precisions, name = 'PR-curve')\n",
        "\n",
        "  area = area_under_curve(x_arr=recalls, y_arr=precisions)\n",
        "  print(f'Площадь под кривой равна:    {area}')"
      ],
      "metadata": {
        "id": "O0mF78pR8L5Z"
      },
      "execution_count": null,
      "outputs": []
    },
    {
      "cell_type": "markdown",
      "source": [
        "#Генерируем данные"
      ],
      "metadata": {
        "id": "mh_Qzq-5r41a"
      }
    },
    {
      "cell_type": "code",
      "source": [
        "np.random.seed(0)\n",
        "l = 300\n",
        "n = 2\n",
        "\n",
        "X1 = np.array([[-1, -1]]) + 0.5*np.random.randn(l, n)\n",
        "X2 = np.array([[1, 1]]) + 0.5*np.random.randn(l, n)\n",
        "\n",
        "#конкатенируем все в одну матрицу\n",
        "x_test = np.vstack((X1[:100], X2[:100]))\n",
        "x_train = np.vstack((X1[100:], X2[100:]))\n",
        "\n",
        "#конкатенируем все в один столбец с соответствующими значениями для класса 0 или 1\n",
        "y_test = np.hstack([[0]*100, [1]*100])\n",
        "y_train = np.hstack([[0]*(l-100), [1]*(l-100)])"
      ],
      "metadata": {
        "id": "-tWuANZIr4Hj"
      },
      "execution_count": null,
      "outputs": []
    },
    {
      "cell_type": "code",
      "source": [
        "colors = ['blue', 'red']\n",
        "\n",
        "for k in np.unique(y_train):\n",
        "  plt.plot(x_train[y_train==k, 0], x_train[y_train==k, 1], 'o', label='class {}'.format(k), color = colors[k])\n",
        "\n",
        "plt.legend(loc='best')\n",
        "plt.show()"
      ],
      "metadata": {
        "colab": {
          "base_uri": "https://localhost:8080/",
          "height": 265
        },
        "id": "2qbJ6DCibtN6",
        "outputId": "9f5e1aed-74b4-45a5-d86d-e84d56df132d"
      },
      "execution_count": null,
      "outputs": [
        {
          "output_type": "display_data",
          "data": {
            "text/plain": [
              "<Figure size 432x288 with 1 Axes>"
            ],
            "image/png": "[encoded data removed]"
          },
          "metadata": {
            "needs_background": "light"
          }
        }
      ]
    },
    {
      "cell_type": "markdown",
      "source": [
        "#Создаем модель и тренируем"
      ],
      "metadata": {
        "id": "7HUcQ9ndwtiB"
      }
    },
    {
      "cell_type": "code",
      "source": [
        "lgr = LogisticRegression()\n",
        "lgr.fit(x_train, y_train)\n",
        "\n",
        "roc_curve(x_test, y_test, model = lgr, n = 10)"
      ],
      "metadata": {
        "colab": {
          "base_uri": "https://localhost:8080/",
          "height": 298
        },
        "id": "8ufNBNLRwwTy",
        "outputId": "8c125277-0cbb-4b1d-a297-299f125f9474"
      },
      "execution_count": null,
      "outputs": [
        {
          "output_type": "display_data",
          "data": {
            "text/plain": [
              "<Figure size 432x288 with 1 Axes>"
            ],
            "image/png": "[encoded data removed]"
          },
          "metadata": {
            "needs_background": "light"
          }
        },
        {
          "output_type": "stream",
          "name": "stdout",
          "text": [
            "Площадь под кривой равна:    1.0\n"
          ]
        }
      ]
    },
    {
      "cell_type": "code",
      "source": [
        "pr_curve(x_test, y_test, lgr, n = 30)"
      ],
      "metadata": {
        "colab": {
          "base_uri": "https://localhost:8080/",
          "height": 298
        },
        "id": "4izqzhl1p7Sz",
        "outputId": "0b180631-ac34-4e44-f5f3-941ce3e29ffa"
      },
      "execution_count": null,
      "outputs": [
        {
          "output_type": "display_data",
          "data": {
            "text/plain": [
              "<Figure size 432x288 with 1 Axes>"
            ],
            "image/png": "[encoded data removed]"
          },
          "metadata": {
            "needs_background": "light"
          }
        },
        {
          "output_type": "stream",
          "name": "stdout",
          "text": [
            "Площадь под кривой равна:    1.0\n"
          ]
        }
      ]
    },
    {
      "cell_type": "code",
      "source": [
        "from re import X\n",
        "p - вероятность класса1\n",
        "1-p - класс0\n",
        "пусть х положительных\n",
        "n-х - доля отрицательных\n",
        "\n",
        "TP = p*x\n",
        "FP = p*(n-x)\n",
        "\n",
        "TN = (1-p)*(n-x)\n",
        "FN = (1-p)*X\n",
        "\n",
        "TPR = p*x/(px + (1-p)*x) = p\n",
        "\n",
        "FPR = p(n-x) / ((1-p)*(n-x) + p*(n-x)) = p"
      ],
      "metadata": {
        "id": "ZtZ-Y0P74tNh"
      },
      "execution_count": null,
      "outputs": []
    }
  ]
}