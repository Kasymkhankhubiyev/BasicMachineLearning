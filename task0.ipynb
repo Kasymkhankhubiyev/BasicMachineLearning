{
  "nbformat": 4,
  "nbformat_minor": 0,
  "metadata": {
    "colab": {
      "provenance": [],
      "collapsed_sections": []
    },
    "kernelspec": {
      "name": "python3",
      "display_name": "Python 3"
    },
    "language_info": {
      "name": "python"
    }
  },
  "cells": [
    {
      "cell_type": "code",
      "execution_count": 4,
      "metadata": {
        "id": "341j6IfkpgX7"
      },
      "outputs": [],
      "source": [
        "import matplotlib.pyplot as plt\n",
        "from sklearn.linear_model import LogisticRegression\n",
        "from sklearn.metrics import confusion_matrix\n",
        "import seaborn as sns\n",
        "import numpy  as np\n",
        "import pandas as pd\n",
        "from typing import NamedTuple"
      ]
    },
    {
      "cell_type": "markdown",
      "source": [
        "#ROC-кривая"
      ],
      "metadata": {
        "id": "PT38SwnhrxQy"
      }
    },
    {
      "cell_type": "code",
      "source": [
        "class Confusions(NamedTuple):\n",
        "  fp: int\n",
        "  tp: int\n",
        "  tn: int\n",
        "  fn: int"
      ],
      "metadata": {
        "id": "NzPFqWRL2g73"
      },
      "execution_count": 12,
      "outputs": []
    },
    {
      "cell_type": "code",
      "source": [
        "def _classify(predictions: float, treshold: float) -> list:\n",
        "\n",
        "  prediction = []\n",
        "\n",
        "  for i in range(len(predictions)):\n",
        "    if predictions[i] < treshold:\n",
        "      prediction.append(0)\n",
        "    else:\n",
        "      prediction.append(1)\n",
        "\n",
        "  return prediction"
      ],
      "metadata": {
        "id": "xXbQX7ZtrwbB"
      },
      "execution_count": 53,
      "outputs": []
    },
    {
      "cell_type": "code",
      "source": [
        "def _get_confusions(predictions, y_test) -> Confusions:\n",
        "  \n",
        "  tp, fp, tn, fn = 0, 0, 0, 0\n",
        "\n",
        "  # print(predictions)\n",
        "  # print(y_test)\n",
        "\n",
        "  for i in range(len(y_test)):\n",
        "    if y_test[i] == 1 and predictions[i] == 1:\n",
        "      tp += 1\n",
        "    elif y_test[i] == 0 and predictions[i] == 1:\n",
        "      fp += 1\n",
        "    elif y_test[i] == 1 and predictions[i] == 0:\n",
        "      fn += 1\n",
        "    elif y_test[i] == 0 and predictions[i] == 0:\n",
        "      tn += 1\n",
        "\n",
        "  return Confusions(fp=fp, tp=tp, fn=fn, tn=tn)"
      ],
      "metadata": {
        "id": "x6CvbzF5zBXb"
      },
      "execution_count": 62,
      "outputs": []
    },
    {
      "cell_type": "code",
      "source": [
        "def _get_tpr_fpr(predictions: np.array, y_test: np.array):\n",
        "\n",
        "  #получаем кол-во правильных и ложных значений\n",
        "  confusions = _get_confusions(predictions, y_test)\n",
        "  # print(confusions)\n",
        "\n",
        "  tpr = float(confusions.tp)/float(confusions.tp + confusions.fn)\n",
        "\n",
        "  fpr = float(confusions.fp)/float(confusions.fp + confusions.tn)\n",
        "\n",
        "\n",
        "  return tpr, fpr"
      ],
      "metadata": {
        "id": "d_52egQv1161"
      },
      "execution_count": 99,
      "outputs": []
    },
    {
      "cell_type": "code",
      "source": [
        "def _draw_ROC_curve(tprs, fprs) -> None:\n",
        "  plt.plot(fprs, tprs, label='ROC', color='red')\n",
        "  plt.legend('best')\n",
        "  plt.show()"
      ],
      "metadata": {
        "id": "XE4_bwy57How"
      },
      "execution_count": 23,
      "outputs": []
    },
    {
      "cell_type": "markdown",
      "source": [],
      "metadata": {
        "id": "7zWZL8P-vXKG"
      }
    },
    {
      "cell_type": "code",
      "source": [
        "def roc_curve(x_test: np.array, y_test: np.array, model: LogisticRegression, n: int) -> None:\n",
        "\n",
        "  tprs, fprs = [], []\n",
        "\n",
        "  #получаем пороги\n",
        "  treshold = np.linspace(0., 1., n)  \n",
        "  # print(treshold)\n",
        "\n",
        "  #возращает массив вероятностей приналежности для каждого класса\n",
        "  predictions = model.predict_proba(x_test)[:,1]\n",
        "\n",
        "  for i in range(n):\n",
        "    # print(treshold[i])\n",
        "    prediction = _classify(predictions, treshold=treshold[i])\n",
        "    tpr, fpr = _get_tpr_fpr(prediction, y_test)\n",
        "    tprs.append(tpr)\n",
        "    fprs.append(fpr)\n",
        "\n",
        "  _draw_ROC_curve(tprs = tprs, fprs = fprs)"
      ],
      "metadata": {
        "id": "YgfPO3PlrgTb"
      },
      "execution_count": 77,
      "outputs": []
    },
    {
      "cell_type": "markdown",
      "source": [
        "#PR - кривая"
      ],
      "metadata": {
        "id": "3jlhHjDP8Mwx"
      }
    },
    {
      "cell_type": "code",
      "source": [],
      "metadata": {
        "id": "O0mF78pR8L5Z"
      },
      "execution_count": null,
      "outputs": []
    },
    {
      "cell_type": "markdown",
      "source": [
        "#Генерируем данные"
      ],
      "metadata": {
        "id": "mh_Qzq-5r41a"
      }
    },
    {
      "cell_type": "code",
      "source": [
        "np.random.seed(0)\n",
        "l = 300\n",
        "n = 2\n",
        "\n",
        "X1 = np.array([[-1, -1]]) + 1.5*np.random.randn(l, n)\n",
        "X2 = np.array([[1, 1]]) + 1.5*np.random.randn(l, n)\n",
        "\n",
        "#конкатенируем все в одну матрицу\n",
        "x_test = np.vstack((X1[:100], X2[:100]))\n",
        "x_train = np.vstack((X1[100:], X2[100:]))\n",
        "\n",
        "#конкатенируем все в один столбец с соответствующими значениями для класса 0 или 1\n",
        "y_test = np.hstack([[0]*100, [1]*100])\n",
        "y_train = np.hstack([[0]*(l-100), [1]*(l-100)])"
      ],
      "metadata": {
        "id": "-tWuANZIr4Hj"
      },
      "execution_count": 100,
      "outputs": []
    },
    {
      "cell_type": "markdown",
      "source": [
        "#Создаем модель и тренируем"
      ],
      "metadata": {
        "id": "7HUcQ9ndwtiB"
      }
    },
    {
      "cell_type": "code",
      "source": [
        "lgr = LogisticRegression()\n",
        "lgr.fit(x_train, y_train)\n",
        "\n",
        "roc_curve(x_test, y_test, model = lgr, n = 50)"
      ],
      "metadata": {
        "colab": {
          "base_uri": "https://localhost:8080/",
          "height": 265
        },
        "id": "8ufNBNLRwwTy",
        "outputId": "7e403941-00c3-41f7-c5c8-bc2339308c41"
      },
      "execution_count": 101,
      "outputs": [
        {
          "output_type": "display_data",
          "data": {
            "text/plain": [
              "<Figure size 432x288 with 1 Axes>"
            ],
            "image/png": "[encoded data removed]"
          },
          "metadata": {
            "needs_background": "light"
          }
        }
      ]
    }
  ]
}